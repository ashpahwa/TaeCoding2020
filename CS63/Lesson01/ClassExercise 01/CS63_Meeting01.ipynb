{
 "cells": [
  {
   "cell_type": "code",
   "execution_count": 1,
   "metadata": {
    "colab": {},
    "colab_type": "code",
    "collapsed": true,
    "id": "rSPQEoeKzZGa"
   },
   "outputs": [],
   "source": [
    "from datascience import *\n",
    "%matplotlib inline\n",
    "import matplotlib.pyplot as plots\n",
    "plots.style.use('fivethirtyeight')\n",
    "import pylab as pl\n",
    "import numpy as np"
   ]
  },
  {
   "cell_type": "markdown",
   "metadata": {
    "colab_type": "text",
    "id": "_f3WS5-7xkQ9"
   },
   "source": [
    "# Unit 1: Properties of the Mean"
   ]
  },
  {
   "cell_type": "markdown",
   "metadata": {
    "colab_type": "text",
    "id": "Gpftk-ZXyIYC"
   },
   "source": [
    "### Properties of the Mean ###\n",
    "\n",
    "In this course, we have used the words \"average\" and \"mean\" interchangeably, and will continue to do so. The definition of the mean will be familiar to you from your high school days or even earlier.\n",
    "\n",
    "**Definition.** The *average* or *mean* of a collection of numbers is the sum of all the elements of the collection, divided by the number of elements in the collection.\n",
    "\n",
    "The methods `np.average` and `np.mean` return the mean of an array. "
   ]
  },
  {
   "cell_type": "code",
   "execution_count": 2,
   "metadata": {
    "colab": {},
    "colab_type": "code",
    "collapsed": true,
    "id": "UEOC7SzoyIYD"
   },
   "outputs": [],
   "source": [
    "not_symmetric = make_array(2, 3, 3, 9)"
   ]
  },
  {
   "cell_type": "code",
   "execution_count": 3,
   "metadata": {
    "colab": {
     "base_uri": "https://localhost:8080/",
     "height": 35
    },
    "colab_type": "code",
    "id": "mg6zMQzHyIYF",
    "outputId": "c1026f59-7b98-4cdb-f3a2-a11cae3bacab"
   },
   "outputs": [
    {
     "data": {
      "text/plain": [
       "4.25"
      ]
     },
     "execution_count": 3,
     "metadata": {},
     "output_type": "execute_result"
    }
   ],
   "source": [
    "np.average(not_symmetric)"
   ]
  },
  {
   "cell_type": "code",
   "execution_count": 4,
   "metadata": {
    "colab": {
     "base_uri": "https://localhost:8080/",
     "height": 35
    },
    "colab_type": "code",
    "id": "IIAAd27ayIYI",
    "outputId": "01e5164c-ceb7-403f-8ce2-4aff683580ed"
   },
   "outputs": [
    {
     "data": {
      "text/plain": [
       "4.25"
      ]
     },
     "execution_count": 4,
     "metadata": {},
     "output_type": "execute_result"
    }
   ],
   "source": [
    "np.mean(not_symmetric)"
   ]
  },
  {
   "cell_type": "markdown",
   "metadata": {
    "colab_type": "text",
    "id": "Iv-puBoGyIYL"
   },
   "source": [
    "### Basic Properties ###\n",
    "\n",
    "The definition and the example above point to some properties of the mean.\n",
    "\n",
    "- It need not be an element of the collection.\n",
    "- It need not be an integer even if all the elements of the collection are integers.\n",
    "- It is somewhere between the smallest and largest values in the collection.\n",
    "- It need not be halfway between the two extremes; it is not in general true that half the elements in a collection are above the mean.\n",
    "- If the collection consists of values of a variable measured in specified units, then the mean has the same units too.\n",
    "\n",
    "We will now study some other properties that are helpful in understanding the mean and its relation to other statistics."
   ]
  },
  {
   "cell_type": "markdown",
   "metadata": {
    "colab_type": "text",
    "id": "2H1_h9TIyIYL"
   },
   "source": [
    "### The Mean is a \"Smoother\" ##\n",
    "\n",
    "You can think of taking the mean as an \"equalizing\" or \"smoothing\" operation. For example, imagine the entries in `not_symmetric` above as the dollars in the pockets of four different people. To get the mean, you first put all of the money into one big pot and then divide it evenly among the four people. They had started out with different amounts of money in their pockets (\\$2, \\$3, \\$3, and \\$9), but now each person has \\$4.25, the mean amount."
   ]
  },
  {
   "cell_type": "markdown",
   "metadata": {
    "colab_type": "text",
    "id": "Ev6Ec2sQyIYM"
   },
   "source": [
    "### Proportions are Means ###\n",
    "If a collection consists only of ones and zeroes, then the sum of the collection is the number of ones in it, and the mean of the collection is the proportion of ones."
   ]
  },
  {
   "cell_type": "code",
   "execution_count": 5,
   "metadata": {
    "colab": {
     "base_uri": "https://localhost:8080/",
     "height": 35
    },
    "colab_type": "code",
    "id": "m_dg-lpdyIYN",
    "outputId": "1adf8fd8-e0a7-40e9-dcc7-0dcf253c1e99"
   },
   "outputs": [
    {
     "data": {
      "text/plain": [
       "3"
      ]
     },
     "execution_count": 5,
     "metadata": {},
     "output_type": "execute_result"
    }
   ],
   "source": [
    "zero_one = make_array(1, 1, 1, 0)\n",
    "sum(zero_one)"
   ]
  },
  {
   "cell_type": "code",
   "execution_count": 6,
   "metadata": {
    "colab": {
     "base_uri": "https://localhost:8080/",
     "height": 35
    },
    "colab_type": "code",
    "id": "QnxycvhEyIYQ",
    "outputId": "3d7e885c-7e23-4059-809b-25ba1cb9c9d0"
   },
   "outputs": [
    {
     "data": {
      "text/plain": [
       "0.75"
      ]
     },
     "execution_count": 6,
     "metadata": {},
     "output_type": "execute_result"
    }
   ],
   "source": [
    "np.mean(zero_one)"
   ]
  },
  {
   "cell_type": "markdown",
   "metadata": {
    "colab_type": "text",
    "id": "QQ3bgPKLyIYS"
   },
   "source": [
    "You can replace 1 by the Boolean `True` and 0 by `False`:"
   ]
  },
  {
   "cell_type": "code",
   "execution_count": 7,
   "metadata": {
    "colab": {
     "base_uri": "https://localhost:8080/",
     "height": 35
    },
    "colab_type": "code",
    "id": "PNoiDER1yIYT",
    "outputId": "d23593d2-d023-4e44-ef54-563ed923a5af"
   },
   "outputs": [
    {
     "data": {
      "text/plain": [
       "0.75"
      ]
     },
     "execution_count": 7,
     "metadata": {},
     "output_type": "execute_result"
    }
   ],
   "source": [
    "np.mean(make_array(True, True, True, False))"
   ]
  },
  {
   "cell_type": "markdown",
   "metadata": {
    "colab_type": "text",
    "id": "KkBy5PF9yIYX"
   },
   "source": [
    "Because proportions are a special case of means, results about random sample means apply to random sample proportions as well."
   ]
  },
  {
   "cell_type": "markdown",
   "metadata": {
    "colab_type": "text",
    "id": "geVRsqJzyIYY"
   },
   "source": [
    "### The Mean and the Histogram ###\n",
    "The mean of the collection {2, 3, 3, 9} is 4.25, which is not the \"halfway point\" of the data. So then what does the mean measure?\n",
    "\n",
    "To see this, notice that the mean can be calculated in different ways.\n",
    "\n",
    "$$\\begin{align*}\n",
    "\\mbox{mean} ~ &=~ 4.25 \\\\ \\\\\n",
    "&=~ \\frac{2 + 3 + 3 + 9}{4} \\\\ \\\\\n",
    "&=~ 2 \\cdot \\frac{1}{4} ~~ + ~~ 3 \\cdot \\frac{1}{4} ~~ + ~~ 3 \\cdot \\frac{1}{4} ~~ + ~~ 9 \\cdot \\frac{1}{4} \\\\ \\\\\n",
    "&=~ 2 \\cdot \\frac{1}{4} ~~ + ~~ 3 \\cdot \\frac{2}{4} ~~ + ~~ 9 \\cdot \\frac{1}{4} \\\\ \\\\\n",
    "&=~ 2 \\cdot 0.25 ~~ + ~~ 3 \\cdot 0.5 ~~ + ~~ 9 \\cdot 0.25\n",
    "\\end{align*}$$\n",
    "\n",
    "The last expression is an example of a general fact: when we calculate the mean, each distinct value in the collection is *weighted* by the proportion of times it appears in the collection.\n",
    "\n",
    "This has an important consequence. The mean of a collection depends only on the distinct values and their proportions, not on the number of elements in the collection. In other words, the mean of a collection depends only on the distribution of values in the collection.\n",
    "\n",
    "Therefore, **if two collections have the same distribution, then they have the same mean.**\n",
    "\n",
    "For example, here is another collection that has the same distribution as `not_symmetric` and hence the same mean."
   ]
  },
  {
   "cell_type": "code",
   "execution_count": 8,
   "metadata": {
    "colab": {
     "base_uri": "https://localhost:8080/",
     "height": 35
    },
    "colab_type": "code",
    "id": "3qsN_RgfyIYZ",
    "outputId": "9e621c25-62a1-47dc-f0f6-61655974cad1"
   },
   "outputs": [
    {
     "data": {
      "text/plain": [
       "array([2, 3, 3, 9])"
      ]
     },
     "execution_count": 8,
     "metadata": {},
     "output_type": "execute_result"
    }
   ],
   "source": [
    "not_symmetric"
   ]
  },
  {
   "cell_type": "code",
   "execution_count": 9,
   "metadata": {
    "colab": {
     "base_uri": "https://localhost:8080/",
     "height": 35
    },
    "colab_type": "code",
    "id": "Eof5tl-MyIYd",
    "outputId": "2ea9b51f-15a3-4d19-fac1-0dd90d5c1b85"
   },
   "outputs": [
    {
     "data": {
      "text/plain": [
       "4.25"
      ]
     },
     "execution_count": 9,
     "metadata": {},
     "output_type": "execute_result"
    }
   ],
   "source": [
    "same_distribution = make_array(2, 2, 3, 3, 3, 3, 9, 9)\n",
    "np.mean(same_distribution)"
   ]
  },
  {
   "cell_type": "markdown",
   "metadata": {
    "colab_type": "text",
    "id": "uMSlUSydyIYg"
   },
   "source": [
    "The mean is a physical attribute of the histogram of the distribution. Here is the histogram of the distribution of `not_symmetric` or equivalently the distribution of `same_distribution`."
   ]
  },
  {
   "cell_type": "code",
   "execution_count": 10,
   "metadata": {
    "colab": {
     "base_uri": "https://localhost:8080/",
     "height": 301
    },
    "colab_type": "code",
    "id": "EnuRLfm7yIYh",
    "outputId": "d3a7ab59-d8ab-4c6a-e602-de91ea3b49c5",
    "tags": [
     "remove_input"
    ]
   },
   "outputs": [
    {
     "data": {
      "image/png": "[encoded data removed]",
      "text/plain": [
       "<matplotlib.figure.Figure at 0x1eb95acd400>"
      ]
     },
     "metadata": {},
     "output_type": "display_data"
    }
   ],
   "source": [
    "t1 = Table().with_columns('not symmetric', not_symmetric)\n",
    "t1.hist(bins=np.arange(1.5, 9.6, 1))"
   ]
  },
  {
   "cell_type": "markdown",
   "metadata": {
    "colab_type": "text",
    "id": "APlUJTGQyIYk"
   },
   "source": [
    "Imagine the histogram as a figure made out of cardboard attached to a wire that runs along the horizontal axis, and imagine the bars as weights attached at the values 2, 3, and 9. Suppose you try to balance this figure on a point on the wire. If the point is near 2, the figure will tip over to the right. If the point is near 9, the figure will tip over to the left. Somewhere in between is the point where the figure will balance; that point is the 4.25, the mean.\n",
    "\n",
    "**The mean is the center of gravity or balance point of the histogram.**\n",
    "\n",
    "To understand why that is, it helps to know some physics. The center of gravity is calculated exactly as we calculated the mean, by using the distinct values weighted by their proportions.\n",
    "\n",
    "Because the mean is a balance point, it is sometimes displayed as a *fulcrum* or triangle at the base of the histogram."
   ]
  },
  {
   "cell_type": "code",
   "execution_count": 11,
   "metadata": {
    "colab": {
     "base_uri": "https://localhost:8080/",
     "height": 307
    },
    "colab_type": "code",
    "id": "spzFEDuYyIYk",
    "outputId": "02df6715-a0de-4def-f998-46701a1f4fd5",
    "tags": [
     "remove_input"
    ]
   },
   "outputs": [
    {
     "data": {
      "image/png": "[encoded data removed]",
      "text/plain": [
       "<matplotlib.figure.Figure at 0x1eb95acd3c8>"
      ]
     },
     "metadata": {},
     "output_type": "display_data"
    }
   ],
   "source": [
    "mean_ns = np.mean(not_symmetric)\n",
    "t1.hist(bins=np.arange(1.5, 9.6, 1))\n",
    "plots.scatter(mean_ns, -0.009, marker='^', color='darkblue', s=60)\n",
    "plots.plot([1.5, 9.5], [0, 0], color='grey')\n",
    "plots.ylim(-0.05, 0.5);"
   ]
  },
  {
   "cell_type": "markdown",
   "metadata": {
    "colab_type": "text",
    "id": "D7z_etdQyIYn"
   },
   "source": [
    "### The Mean and the Median ###\n",
    "\n",
    "If a student's score on a test is below average, does that imply that the student is in the bottom half of the class on that test?\n",
    "\n",
    "Happily for the student, the answer is, \"Not necessarily.\" The reason has to do with the relation between the average, which is the balance point of the histogram, and the median, which is the \"half-way point\" of the data.\n",
    "\n",
    "The relationship is easy to see in a simple example. Here is a histogram of the collection {2, 3, 3, 4} which is in the array `symmetric`. The distribution is symmetric about 3. The mean and the median are both equal to 3."
   ]
  },
  {
   "cell_type": "code",
   "execution_count": 12,
   "metadata": {
    "colab": {},
    "colab_type": "code",
    "collapsed": true,
    "id": "e1WeMXi7yIYo"
   },
   "outputs": [],
   "source": [
    "symmetric = make_array(2, 3, 3, 4)"
   ]
  },
  {
   "cell_type": "code",
   "execution_count": 13,
   "metadata": {
    "colab": {
     "base_uri": "https://localhost:8080/",
     "height": 307
    },
    "colab_type": "code",
    "id": "u_6h11Q5yIYq",
    "outputId": "ee3b8826-535b-4b7e-f524-4738b09f5cce",
    "tags": [
     "remove_input"
    ]
   },
   "outputs": [
    {
     "data": {
      "image/png": "[encoded data removed]",
      "text/plain": [
       "<matplotlib.figure.Figure at 0x1eb95e68198>"
      ]
     },
     "metadata": {},
     "output_type": "display_data"
    }
   ],
   "source": [
    "t2 = Table().with_columns('symmetric', symmetric)\n",
    "mean_s = np.mean(symmetric)\n",
    "\n",
    "t2.hist(bins=np.arange(1.5, 4.6, 1))\n",
    "plots.scatter(mean_s, -0.009, marker='^', color='darkblue', s=60)\n",
    "plots.xlim(1, 10)\n",
    "plots.ylim(-0.05, 0.5);"
   ]
  },
  {
   "cell_type": "code",
   "execution_count": 14,
   "metadata": {
    "colab": {
     "base_uri": "https://localhost:8080/",
     "height": 35
    },
    "colab_type": "code",
    "id": "9_5OLIHQyIYs",
    "outputId": "24e7237f-22a9-40b8-a748-d360ffa33cee"
   },
   "outputs": [
    {
     "data": {
      "text/plain": [
       "3.0"
      ]
     },
     "execution_count": 14,
     "metadata": {},
     "output_type": "execute_result"
    }
   ],
   "source": [
    "np.mean(symmetric)"
   ]
  },
  {
   "cell_type": "code",
   "execution_count": 15,
   "metadata": {
    "colab": {
     "base_uri": "https://localhost:8080/",
     "height": 35
    },
    "colab_type": "code",
    "id": "nKDoA6whyIYu",
    "outputId": "ba27c4a6-86ad-45d0-f766-e980a86a8953"
   },
   "outputs": [
    {
     "data": {
      "text/plain": [
       "3"
      ]
     },
     "execution_count": 15,
     "metadata": {},
     "output_type": "execute_result"
    }
   ],
   "source": [
    "percentile(50, symmetric)"
   ]
  },
  {
   "cell_type": "markdown",
   "metadata": {
    "colab_type": "text",
    "id": "SFZ2evgryIYw"
   },
   "source": [
    "In general, **for symmetric distributions, the mean and the median are equal.**\n",
    "\n",
    "What if the distribution is not symmetric? Let's compare `symmetric` and `not_symmetric`."
   ]
  },
  {
   "cell_type": "code",
   "execution_count": 16,
   "metadata": {
    "colab": {
     "base_uri": "https://localhost:8080/",
     "height": 287
    },
    "colab_type": "code",
    "id": "fueEunT4yIYx",
    "outputId": "26838da2-d8b9-4b7f-ce41-efe5cd5baa1c",
    "tags": [
     "remove_input"
    ]
   },
   "outputs": [
    {
     "data": {
      "image/png": "[encoded data removed]",
      "text/plain": [
       "<matplotlib.figure.Figure at 0x1eb95e684e0>"
      ]
     },
     "metadata": {},
     "output_type": "display_data"
    }
   ],
   "source": [
    "t3 = t2.with_column(\n",
    "        'not_symmetric', not_symmetric\n",
    ")\n",
    "\n",
    "t3.hist(bins=np.arange(1.5, 9.6, 1))\n",
    "plots.scatter(mean_s, -0.009, marker='^', color='darkblue', s=60)\n",
    "plots.scatter(mean_ns, -0.009, marker='^', color='gold', s=60)\n",
    "plots.ylim(-0.05, 0.5);"
   ]
  },
  {
   "cell_type": "markdown",
   "metadata": {
    "colab_type": "text",
    "id": "YYekS5WsyIYz"
   },
   "source": [
    "The blue histogram represents the original `symmetric` distribution. The gold histogram of `not_symmetric` starts out the same as the blue at the left end, but its rightmost bar has slid over to the value 9. The brown part is where the two histograms overlap.\n",
    "\n",
    "The median and mean of the blue distribution are both equal to 3. The median of the gold distribution is also equal to 3, though the right half is distributed differently from the left. \n",
    "\n",
    "But the mean of the gold distribution is not 3: the gold histogram would not balance at 3. The balance point has shifted to the right, to 4.25."
   ]
  },
  {
   "cell_type": "markdown",
   "metadata": {
    "colab_type": "text",
    "id": "-nYUGkBIyIY0"
   },
   "source": [
    "In the gold distribution, 3 out of 4 entries (75%) are below average. The student with a below average score can therefore take heart. He or she might be in the majority of the class."
   ]
  },
  {
   "cell_type": "markdown",
   "metadata": {
    "colab_type": "text",
    "id": "UhU4Z-QiyIY0"
   },
   "source": [
    "In general, **if the histogram has a tail on one side (the formal term is \"skewed\"), then the mean is pulled away from the median in the direction of the tail.**"
   ]
  },
  {
   "cell_type": "markdown",
   "metadata": {
    "colab_type": "text",
    "id": "_oLSNsjDyIY2"
   },
   "source": [
    "### Example ###\n",
    "The table `sf2015` contains salary and benefits data for San Francisco City employees in 2015. As before, we will restrict our analysis to those who had the equivalent of at least half-time employment for the year."
   ]
  },
  {
   "cell_type": "code",
   "execution_count": 17,
   "metadata": {
    "colab": {
     "base_uri": "https://localhost:8080/",
     "height": 72
    },
    "colab_type": "code",
    "id": "ezyvZkaPyIY3",
    "outputId": "419fd712-6514-4a0f-c575-85a3352ebba8"
   },
   "outputs": [],
   "source": [
    "sf2015 = Table.read_table('https://gitlab.com/tae-public/data/raw/master/cs61/data8assets/textbook/chapters/san_francisco_2015.csv').where('Salaries', are.above(10000))"
   ]
  },
  {
   "cell_type": "markdown",
   "metadata": {
    "colab_type": "text",
    "id": "Hw3DOWKayIY7"
   },
   "source": [
    "As we saw earlier, the highest compensation was above \\$600,000 but the vast majority of employees had compensations below \\$300,000."
   ]
  },
  {
   "cell_type": "code",
   "execution_count": 18,
   "metadata": {
    "colab": {
     "base_uri": "https://localhost:8080/",
     "height": 339
    },
    "colab_type": "code",
    "id": "kFcKzWSIyIY8",
    "outputId": "a98214b6-c2a3-49a8-9581-1adfac15c237"
   },
   "outputs": [
    {
     "data": {
      "image/png": "[encoded data removed]",
      "text/plain": [
       "<matplotlib.figure.Figure at 0x1eb96320e48>"
      ]
     },
     "metadata": {},
     "output_type": "display_data"
    }
   ],
   "source": [
    "sf2015.select('Total Compensation').hist(bins = np.arange(10000, 700000, 25000))"
   ]
  },
  {
   "cell_type": "markdown",
   "metadata": {
    "colab_type": "text",
    "id": "zzQZoXtqyIY-"
   },
   "source": [
    "This histogram is skewed to the right; it has a right-hand tail. \n",
    "\n",
    "The mean gets pulled away from the median in the direction of the tail. So we expect the mean compensation to be larger than the median, and that is indeed the case."
   ]
  },
  {
   "cell_type": "code",
   "execution_count": 19,
   "metadata": {
    "colab": {
     "base_uri": "https://localhost:8080/",
     "height": 35
    },
    "colab_type": "code",
    "id": "ij9wq89DyIY_",
    "outputId": "0f0109b9-b1bb-434c-bdf4-4e67ec0cf0cf"
   },
   "outputs": [
    {
     "data": {
      "text/plain": [
       "110305.79"
      ]
     },
     "execution_count": 19,
     "metadata": {},
     "output_type": "execute_result"
    }
   ],
   "source": [
    "compensation = sf2015.column('Total Compensation')\n",
    "percentile(50, compensation)"
   ]
  },
  {
   "cell_type": "code",
   "execution_count": 20,
   "metadata": {
    "colab": {
     "base_uri": "https://localhost:8080/",
     "height": 35
    },
    "colab_type": "code",
    "id": "_LuvGDjryIZC",
    "outputId": "0a710561-262d-42c9-d193-d8b4ed009f9a"
   },
   "outputs": [
    {
     "data": {
      "text/plain": [
       "114725.98411824222"
      ]
     },
     "execution_count": 20,
     "metadata": {},
     "output_type": "execute_result"
    }
   ],
   "source": [
    "np.mean(compensation)"
   ]
  },
  {
   "cell_type": "markdown",
   "metadata": {
    "colab_type": "text",
    "id": "Lq32za1zyIZE"
   },
   "source": [
    "Distributions of incomes of large populations tend to be right skewed. When the bulk of a population has middle to low incomes, but a very small proportion has very high incomes, the histogram has a long, thin tail to the right. \n",
    "\n",
    "The mean income is affected by this tail: the farther the tail stretches to the right, the larger the mean becomes. But the median is not affected by values at the extremes of the distribution. That is why economists often summarize income distributions by the median instead of the mean."
   ]
  },
  {
   "cell_type": "markdown",
   "metadata": {
    "colab_type": "text",
    "id": "7M0zr7lbya-a"
   },
   "source": [
    "# Unit 2: Variability"
   ]
  },
  {
   "cell_type": "markdown",
   "metadata": {
    "colab_type": "text",
    "id": "DcCAIhubyhUA"
   },
   "source": [
    "### Variability ###\n",
    "The mean tells us where a histogram balances. But in almost every histogram we have seen, the values spread out on both sides of the mean. How far from the mean can they be? To answer this question, we will develop a measure of variability about the mean.\n",
    "\n",
    "We will start by describing how to calculate the measure. Then we will see why it is a good measure to calcualte."
   ]
  },
  {
   "cell_type": "markdown",
   "metadata": {
    "colab_type": "text",
    "id": "NDWISxHIyhUB"
   },
   "source": [
    "### The Rough Size of Deviations from Average ###\n",
    "For simplicity, we will begin our calcuations in the context of a simple array `any_numbers` consisting of just four values. As you will see, our method will extend easily to any other array of values."
   ]
  },
  {
   "cell_type": "code",
   "execution_count": 21,
   "metadata": {
    "colab": {},
    "colab_type": "code",
    "collapsed": true,
    "id": "A2t5XYtZyhUC"
   },
   "outputs": [],
   "source": [
    "any_numbers = make_array(1, 2, 2, 10)"
   ]
  },
  {
   "cell_type": "markdown",
   "metadata": {
    "colab_type": "text",
    "id": "oEPETvr5yhUE"
   },
   "source": [
    "The goal is to measure roughly how far off the numbers are from their average. To do this, we first need the average: "
   ]
  },
  {
   "cell_type": "code",
   "execution_count": 22,
   "metadata": {
    "colab": {
     "base_uri": "https://localhost:8080/",
     "height": 35
    },
    "colab_type": "code",
    "id": "yTYpAYy9yhUF",
    "outputId": "782174ad-0764-498a-e1be-5892d94efdb8"
   },
   "outputs": [
    {
     "data": {
      "text/plain": [
       "3.75"
      ]
     },
     "execution_count": 22,
     "metadata": {},
     "output_type": "execute_result"
    }
   ],
   "source": [
    "# Step 1. The average.\n",
    "\n",
    "mean = np.mean(any_numbers)\n",
    "mean"
   ]
  },
  {
   "cell_type": "markdown",
   "metadata": {
    "colab_type": "text",
    "id": "1AKkPFJpyhUI"
   },
   "source": [
    "Next, let's find out how far each value is from the mean. These are called the *deviations from the average*. A \"deviation from average\" is just a value minus the average. The table `calculation_steps` displays the results."
   ]
  },
  {
   "cell_type": "code",
   "execution_count": 23,
   "metadata": {
    "colab": {
     "base_uri": "https://localhost:8080/",
     "height": 171
    },
    "colab_type": "code",
    "id": "hRjh-ewFyhUJ",
    "outputId": "75563c6c-e665-4db8-dbe0-f22f5d13d84c"
   },
   "outputs": [
    {
     "data": {
      "text/html": [
       "<table border=\"1\" class=\"dataframe\">\n",
       "    <thead>\n",
       "        <tr>\n",
       "            <th>Value</th> <th>Deviation from Average</th>\n",
       "        </tr>\n",
       "    </thead>\n",
       "    <tbody>\n",
       "        <tr>\n",
       "            <td>1    </td> <td>-2.75                 </td>\n",
       "        </tr>\n",
       "        <tr>\n",
       "            <td>2    </td> <td>-1.75                 </td>\n",
       "        </tr>\n",
       "        <tr>\n",
       "            <td>2    </td> <td>-1.75                 </td>\n",
       "        </tr>\n",
       "        <tr>\n",
       "            <td>10   </td> <td>6.25                  </td>\n",
       "        </tr>\n",
       "    </tbody>\n",
       "</table>"
      ],
      "text/plain": [
       "Value | Deviation from Average\n",
       "1     | -2.75\n",
       "2     | -1.75\n",
       "2     | -1.75\n",
       "10    | 6.25"
      ]
     },
     "execution_count": 23,
     "metadata": {},
     "output_type": "execute_result"
    }
   ],
   "source": [
    "# Step 2. The deviations from average.\n",
    "\n",
    "deviations = any_numbers - mean\n",
    "calculation_steps = Table().with_columns(\n",
    "        'Value', any_numbers,\n",
    "        'Deviation from Average', deviations\n",
    "        )\n",
    "calculation_steps"
   ]
  },
  {
   "cell_type": "markdown",
   "metadata": {
    "colab_type": "text",
    "id": "Ri54xsPNyhUL"
   },
   "source": [
    "Some of the deviations are negative; those correspond to values that are below average. Positive deviations correspond to above-average values.\n",
    "\n",
    "To calculate roughly how big the deviations are, it is natural to compute the mean of the deviations. But something interesting happens when all the deviations are added together:"
   ]
  },
  {
   "cell_type": "code",
   "execution_count": 24,
   "metadata": {
    "colab": {
     "base_uri": "https://localhost:8080/",
     "height": 35
    },
    "colab_type": "code",
    "id": "fkdTWVhzyhUM",
    "outputId": "874fcec8-d57e-4f29-ca1b-2bf34a7842f5"
   },
   "outputs": [
    {
     "data": {
      "text/plain": [
       "0.0"
      ]
     },
     "execution_count": 24,
     "metadata": {},
     "output_type": "execute_result"
    }
   ],
   "source": [
    "sum(deviations)"
   ]
  },
  {
   "cell_type": "markdown",
   "metadata": {
    "colab_type": "text",
    "id": "gb9waP94yhUO"
   },
   "source": [
    "The positive deviations exactly cancel out the negative ones. This is true of all lists of numbers, no matter what the histogram of the list looks like: **the sum of the deviations from average is zero.** \n",
    "\n",
    "Since the sum of the deviations is 0, the mean of the deviations will be 0 as well:"
   ]
  },
  {
   "cell_type": "code",
   "execution_count": 25,
   "metadata": {
    "colab": {
     "base_uri": "https://localhost:8080/",
     "height": 35
    },
    "colab_type": "code",
    "id": "LLSZQHXByhUP",
    "outputId": "9fb0866c-a86a-4c05-c063-91c5bb3549c8"
   },
   "outputs": [
    {
     "data": {
      "text/plain": [
       "0.0"
      ]
     },
     "execution_count": 25,
     "metadata": {},
     "output_type": "execute_result"
    }
   ],
   "source": [
    "np.mean(deviations)"
   ]
  },
  {
   "cell_type": "markdown",
   "metadata": {
    "colab_type": "text",
    "id": "6XVesNvsyhUR"
   },
   "source": [
    "Because of this, the mean of the deviations is not a useful measure of the size of the deviations. What we really want to know is roughly how big the deviations are, regardless of whether they are positive or negative. So we need a way to eliminate the signs of the deviations.\n",
    "\n",
    "There are two time-honored ways of losing signs: the absolute value, and the square. It turns out that taking the square constructs a measure with extremely powerful properties, some of which we will study in this course.\n",
    "\n",
    "So let's eliminate the signs by squaring all the deviations. Then we will take the mean of the squares:"
   ]
  },
  {
   "cell_type": "code",
   "execution_count": 26,
   "metadata": {
    "colab": {
     "base_uri": "https://localhost:8080/",
     "height": 171
    },
    "colab_type": "code",
    "id": "4T_IRdR-yhUS",
    "outputId": "73651069-5661-4e28-d513-57a434d9478e"
   },
   "outputs": [
    {
     "data": {
      "text/html": [
       "<table border=\"1\" class=\"dataframe\">\n",
       "    <thead>\n",
       "        <tr>\n",
       "            <th>Value</th> <th>Deviation from Average</th> <th>Squared Deviations from Average</th>\n",
       "        </tr>\n",
       "    </thead>\n",
       "    <tbody>\n",
       "        <tr>\n",
       "            <td>1    </td> <td>-2.75                 </td> <td>7.5625                         </td>\n",
       "        </tr>\n",
       "        <tr>\n",
       "            <td>2    </td> <td>-1.75                 </td> <td>3.0625                         </td>\n",
       "        </tr>\n",
       "        <tr>\n",
       "            <td>2    </td> <td>-1.75                 </td> <td>3.0625                         </td>\n",
       "        </tr>\n",
       "        <tr>\n",
       "            <td>10   </td> <td>6.25                  </td> <td>39.0625                        </td>\n",
       "        </tr>\n",
       "    </tbody>\n",
       "</table>"
      ],
      "text/plain": [
       "Value | Deviation from Average | Squared Deviations from Average\n",
       "1     | -2.75                  | 7.5625\n",
       "2     | -1.75                  | 3.0625\n",
       "2     | -1.75                  | 3.0625\n",
       "10    | 6.25                   | 39.0625"
      ]
     },
     "execution_count": 26,
     "metadata": {},
     "output_type": "execute_result"
    }
   ],
   "source": [
    "# Step 3. The squared deviations from average\n",
    "\n",
    "squared_deviations = deviations ** 2\n",
    "calculation_steps = calculation_steps.with_column(\n",
    "   'Squared Deviations from Average', squared_deviations\n",
    "    )\n",
    "calculation_steps"
   ]
  },
  {
   "cell_type": "code",
   "execution_count": 27,
   "metadata": {
    "colab": {
     "base_uri": "https://localhost:8080/",
     "height": 35
    },
    "colab_type": "code",
    "id": "jhUJeFNHyhUU",
    "outputId": "a3b5cc40-db1d-443f-a215-df0e0a99fb38"
   },
   "outputs": [
    {
     "data": {
      "text/plain": [
       "13.1875"
      ]
     },
     "execution_count": 27,
     "metadata": {},
     "output_type": "execute_result"
    }
   ],
   "source": [
    "# Step 4. Variance = the mean squared deviation from average\n",
    "\n",
    "variance = np.mean(squared_deviations)\n",
    "variance"
   ]
  },
  {
   "cell_type": "markdown",
   "metadata": {
    "colab_type": "text",
    "id": "SV-Zay8ByhUX"
   },
   "source": [
    "**Variance:** The mean squared deviation calculated above is called the *variance* of the values. \n",
    "\n",
    "While the variance does give us an idea of spread, it is not on the same scale as the original variable as its units are the square of the original. This makes interpretation very difficult. \n",
    "\n",
    "So we return to the original scale by taking the positive square root of the variance:"
   ]
  },
  {
   "cell_type": "code",
   "execution_count": 28,
   "metadata": {
    "colab": {
     "base_uri": "https://localhost:8080/",
     "height": 35
    },
    "colab_type": "code",
    "id": "TJIv-o7iyhUY",
    "outputId": "4a757328-b510-414e-f0de-6f1d3ae2c6a9"
   },
   "outputs": [
    {
     "data": {
      "text/plain": [
       "3.6314597615834874"
      ]
     },
     "execution_count": 28,
     "metadata": {},
     "output_type": "execute_result"
    }
   ],
   "source": [
    "# Step 5.\n",
    "# Standard Deviation:    root mean squared deviation from average\n",
    "# Steps of calculation:   5    4      3       2             1\n",
    "\n",
    "sd = variance ** 0.5\n",
    "sd"
   ]
  },
  {
   "cell_type": "markdown",
   "metadata": {
    "colab_type": "text",
    "id": "hFV1ZqzCyhUa"
   },
   "source": [
    "### Standard Deviation ###\n",
    "\n",
    "The quantity that we have just computed is called the *standard deviation* of the list, and is abbreviated as SD. It measures roughly how far the numbers on the list are from their average.\n",
    "\n",
    "**Definition.** The SD of a list is defined as the *root mean square of deviations from average*. That's a mouthful. But read it from right to left and you have the sequence of steps in the calculation.\n",
    "\n",
    "**Computation.** The five steps described above result in the SD. You can also use the function ``np.std`` to compute the SD of values in an array:"
   ]
  },
  {
   "cell_type": "code",
   "execution_count": 29,
   "metadata": {
    "colab": {
     "base_uri": "https://localhost:8080/",
     "height": 35
    },
    "colab_type": "code",
    "id": "JV-j98EAyhUb",
    "outputId": "12ca6c31-2ecf-494e-fb46-320e41f6c3cf"
   },
   "outputs": [
    {
     "data": {
      "text/plain": [
       "3.6314597615834874"
      ]
     },
     "execution_count": 29,
     "metadata": {},
     "output_type": "execute_result"
    }
   ],
   "source": [
    "np.std(any_numbers)"
   ]
  },
  {
   "cell_type": "markdown",
   "metadata": {
    "colab_type": "text",
    "id": "CsA5y4qJyhUd"
   },
   "source": [
    "### Working with the SD ###\n",
    "\n",
    "To see what we can learn from the SD, let's move to a more interesting dataset than `any_numbers`. The table `nba13` contains data on the players in the National Basketball Association (NBA) in 2013. For each player, the table records the position at which the player usually played, his height in inches, his weight in pounds, and his age in years."
   ]
  },
  {
   "cell_type": "code",
   "execution_count": 30,
   "metadata": {
    "colab": {
     "base_uri": "https://localhost:8080/",
     "height": 439
    },
    "colab_type": "code",
    "id": "anw1ghwLyhUd",
    "outputId": "93ee9733-8387-476b-d44d-7a1ee8538b47"
   },
   "outputs": [
    {
     "data": {
      "text/html": [
       "<table border=\"1\" class=\"dataframe\">\n",
       "    <thead>\n",
       "        <tr>\n",
       "            <th>Name</th> <th>Position</th> <th>Height</th> <th>Weight</th> <th>Age in 2013</th>\n",
       "        </tr>\n",
       "    </thead>\n",
       "    <tbody>\n",
       "        <tr>\n",
       "            <td>DeQuan Jones   </td> <td>Guard   </td> <td>80    </td> <td>221   </td> <td>23         </td>\n",
       "        </tr>\n",
       "        <tr>\n",
       "            <td>Darius Miller  </td> <td>Guard   </td> <td>80    </td> <td>235   </td> <td>23         </td>\n",
       "        </tr>\n",
       "        <tr>\n",
       "            <td>Trevor Ariza   </td> <td>Guard   </td> <td>80    </td> <td>210   </td> <td>28         </td>\n",
       "        </tr>\n",
       "        <tr>\n",
       "            <td>James Jones    </td> <td>Guard   </td> <td>80    </td> <td>215   </td> <td>32         </td>\n",
       "        </tr>\n",
       "        <tr>\n",
       "            <td>Wesley Johnson </td> <td>Guard   </td> <td>79    </td> <td>215   </td> <td>26         </td>\n",
       "        </tr>\n",
       "        <tr>\n",
       "            <td>Klay Thompson  </td> <td>Guard   </td> <td>79    </td> <td>205   </td> <td>23         </td>\n",
       "        </tr>\n",
       "        <tr>\n",
       "            <td>Thabo Sefolosha</td> <td>Guard   </td> <td>79    </td> <td>215   </td> <td>29         </td>\n",
       "        </tr>\n",
       "        <tr>\n",
       "            <td>Chase Budinger </td> <td>Guard   </td> <td>79    </td> <td>218   </td> <td>25         </td>\n",
       "        </tr>\n",
       "        <tr>\n",
       "            <td>Kevin Martin   </td> <td>Guard   </td> <td>79    </td> <td>185   </td> <td>30         </td>\n",
       "        </tr>\n",
       "        <tr>\n",
       "            <td>Evan Fournier  </td> <td>Guard   </td> <td>79    </td> <td>206   </td> <td>20         </td>\n",
       "        </tr>\n",
       "    </tbody>\n",
       "</table>\n",
       "<p>... (495 rows omitted)</p>"
      ],
      "text/plain": [
       "Name            | Position | Height | Weight | Age in 2013\n",
       "DeQuan Jones    | Guard    | 80     | 221    | 23\n",
       "Darius Miller   | Guard    | 80     | 235    | 23\n",
       "Trevor Ariza    | Guard    | 80     | 210    | 28\n",
       "James Jones     | Guard    | 80     | 215    | 32\n",
       "Wesley Johnson  | Guard    | 79     | 215    | 26\n",
       "Klay Thompson   | Guard    | 79     | 205    | 23\n",
       "Thabo Sefolosha | Guard    | 79     | 215    | 29\n",
       "Chase Budinger  | Guard    | 79     | 218    | 25\n",
       "Kevin Martin    | Guard    | 79     | 185    | 30\n",
       "Evan Fournier   | Guard    | 79     | 206    | 20\n",
       "... (495 rows omitted)"
      ]
     },
     "execution_count": 30,
     "metadata": {},
     "output_type": "execute_result"
    }
   ],
   "source": [
    "nba13 = Table.read_table('https://gitlab.com/tae-public/data/raw/master/cs61/data8assets/textbook/chapters/nba2013.csv')\n",
    "nba13"
   ]
  },
  {
   "cell_type": "markdown",
   "metadata": {
    "colab_type": "text",
    "id": "lak5Kj9yyhUg"
   },
   "source": [
    "Here is a histogram of the players' heights."
   ]
  },
  {
   "cell_type": "code",
   "execution_count": 31,
   "metadata": {
    "colab": {
     "base_uri": "https://localhost:8080/",
     "height": 301
    },
    "colab_type": "code",
    "id": "iFBojkM1yhUg",
    "outputId": "f75887b2-5a03-4806-f65a-763fecfe297b"
   },
   "outputs": [
    {
     "data": {
      "image/png": "[encoded data removed]",
      "text/plain": [
       "<matplotlib.figure.Figure at 0x1eb962f70f0>"
      ]
     },
     "metadata": {},
     "output_type": "display_data"
    }
   ],
   "source": [
    "nba13.select('Height').hist(bins=np.arange(68, 88, 1))"
   ]
  },
  {
   "cell_type": "markdown",
   "metadata": {
    "colab_type": "text",
    "id": "zHIU6LzMyhUj"
   },
   "source": [
    "It is no surprise that NBA players are tall! Their average height is just over 79 inches (6'7\"), about 10 inches taller than the average height of men in the United States."
   ]
  },
  {
   "cell_type": "code",
   "execution_count": 32,
   "metadata": {
    "colab": {
     "base_uri": "https://localhost:8080/",
     "height": 35
    },
    "colab_type": "code",
    "id": "s6oPJL1YyhUl",
    "outputId": "a3bb5d95-1425-4df3-e1c4-c8415dbc762d"
   },
   "outputs": [
    {
     "data": {
      "text/plain": [
       "79.06534653465347"
      ]
     },
     "execution_count": 32,
     "metadata": {},
     "output_type": "execute_result"
    }
   ],
   "source": [
    "mean_height = np.mean(nba13.column('Height'))\n",
    "mean_height"
   ]
  },
  {
   "cell_type": "markdown",
   "metadata": {
    "colab_type": "text",
    "id": "uizJ7RH0yhUp"
   },
   "source": [
    "About how far off are the players' heights from the average? This is measured by the SD of the heights, which is about 3.45 inches."
   ]
  },
  {
   "cell_type": "code",
   "execution_count": 33,
   "metadata": {
    "colab": {
     "base_uri": "https://localhost:8080/",
     "height": 35
    },
    "colab_type": "code",
    "id": "C9ssb8QjyhUq",
    "outputId": "c4dd5fb7-e0f1-4142-a017-afbaaff91ac9"
   },
   "outputs": [
    {
     "data": {
      "text/plain": [
       "3.4505971830275546"
      ]
     },
     "execution_count": 33,
     "metadata": {},
     "output_type": "execute_result"
    }
   ],
   "source": [
    "sd_height = np.std(nba13.column('Height'))\n",
    "sd_height"
   ]
  },
  {
   "cell_type": "markdown",
   "metadata": {
    "colab_type": "text",
    "id": "gi1RkvRIyhUt"
   },
   "source": [
    "The towering center Hasheem Thabeet of the Oklahoma City Thunder was the tallest player at a height of 87 inches."
   ]
  },
  {
   "cell_type": "code",
   "execution_count": 34,
   "metadata": {
    "colab": {
     "base_uri": "https://localhost:8080/",
     "height": 170
    },
    "colab_type": "code",
    "id": "sulFd-6SyhUu",
    "outputId": "65e2c128-45f1-44bc-b82a-f8f575d1d2bc"
   },
   "outputs": [
    {
     "data": {
      "text/html": [
       "<table border=\"1\" class=\"dataframe\">\n",
       "    <thead>\n",
       "        <tr>\n",
       "            <th>Name</th> <th>Position</th> <th>Height</th> <th>Weight</th> <th>Age in 2013</th>\n",
       "        </tr>\n",
       "    </thead>\n",
       "    <tbody>\n",
       "        <tr>\n",
       "            <td>Hasheem Thabeet</td> <td>Center  </td> <td>87    </td> <td>263   </td> <td>26         </td>\n",
       "        </tr>\n",
       "        <tr>\n",
       "            <td>Roy Hibbert    </td> <td>Center  </td> <td>86    </td> <td>278   </td> <td>26         </td>\n",
       "        </tr>\n",
       "        <tr>\n",
       "            <td>Tyson Chandler </td> <td>Center  </td> <td>85    </td> <td>235   </td> <td>30         </td>\n",
       "        </tr>\n",
       "    </tbody>\n",
       "</table>\n",
       "<p>... (502 rows omitted)</p>"
      ],
      "text/plain": [
       "<IPython.core.display.HTML object>"
      ]
     },
     "metadata": {},
     "output_type": "display_data"
    }
   ],
   "source": [
    "nba13.sort('Height', descending=True).show(3)"
   ]
  },
  {
   "cell_type": "markdown",
   "metadata": {
    "colab_type": "text",
    "id": "CkEhS94ayhUy"
   },
   "source": [
    "Thabeet was about 8 inches above the average height."
   ]
  },
  {
   "cell_type": "code",
   "execution_count": 35,
   "metadata": {
    "colab": {
     "base_uri": "https://localhost:8080/",
     "height": 35
    },
    "colab_type": "code",
    "id": "_t3SqrwFyhUz",
    "outputId": "54fea2f1-1ce3-410a-80dd-d6acb9adc344"
   },
   "outputs": [
    {
     "data": {
      "text/plain": [
       "7.934653465346528"
      ]
     },
     "execution_count": 35,
     "metadata": {},
     "output_type": "execute_result"
    }
   ],
   "source": [
    "87 - mean_height"
   ]
  },
  {
   "cell_type": "markdown",
   "metadata": {
    "colab_type": "text",
    "id": "qyKbH6lRyhU3"
   },
   "source": [
    "That's a deviation from average, and it is about 2.3 times the standard deviation:"
   ]
  },
  {
   "cell_type": "code",
   "execution_count": 36,
   "metadata": {
    "colab": {
     "base_uri": "https://localhost:8080/",
     "height": 35
    },
    "colab_type": "code",
    "id": "PNa161zpyhU4",
    "outputId": "07c7a309-765e-4c3e-f383-a9adc6740900"
   },
   "outputs": [
    {
     "data": {
      "text/plain": [
       "2.2995015194397923"
      ]
     },
     "execution_count": 36,
     "metadata": {},
     "output_type": "execute_result"
    }
   ],
   "source": [
    "(87 - mean_height)/sd_height"
   ]
  },
  {
   "cell_type": "markdown",
   "metadata": {
    "colab_type": "text",
    "id": "YkuwUHtgyhU7"
   },
   "source": [
    "In other words, the height of the tallest player was about 2.3 SDs above average.\n",
    "\n",
    "At 69 inches tall, Isaiah Thomas was one of the two shortest NBA players in 2013. His height was about 2.9 SDs below average."
   ]
  },
  {
   "cell_type": "code",
   "execution_count": 37,
   "metadata": {
    "colab": {
     "base_uri": "https://localhost:8080/",
     "height": 170
    },
    "colab_type": "code",
    "id": "fhpuHki8yhU8",
    "outputId": "4c716acb-54d9-4f86-fa7d-5c6f3b7eada4"
   },
   "outputs": [
    {
     "data": {
      "text/html": [
       "<table border=\"1\" class=\"dataframe\">\n",
       "    <thead>\n",
       "        <tr>\n",
       "            <th>Name</th> <th>Position</th> <th>Height</th> <th>Weight</th> <th>Age in 2013</th>\n",
       "        </tr>\n",
       "    </thead>\n",
       "    <tbody>\n",
       "        <tr>\n",
       "            <td>Isaiah Thomas </td> <td>Guard   </td> <td>69    </td> <td>185   </td> <td>24         </td>\n",
       "        </tr>\n",
       "        <tr>\n",
       "            <td>Nate Robinson </td> <td>Guard   </td> <td>69    </td> <td>180   </td> <td>29         </td>\n",
       "        </tr>\n",
       "        <tr>\n",
       "            <td>John Lucas III</td> <td>Guard   </td> <td>71    </td> <td>157   </td> <td>30         </td>\n",
       "        </tr>\n",
       "    </tbody>\n",
       "</table>\n",
       "<p>... (502 rows omitted)</p>"
      ],
      "text/plain": [
       "<IPython.core.display.HTML object>"
      ]
     },
     "metadata": {},
     "output_type": "display_data"
    }
   ],
   "source": [
    "nba13.sort('Height').show(3)"
   ]
  },
  {
   "cell_type": "code",
   "execution_count": 38,
   "metadata": {
    "colab": {
     "base_uri": "https://localhost:8080/",
     "height": 35
    },
    "colab_type": "code",
    "id": "WZrMKTT2yhU_",
    "outputId": "6204ca88-2e62-4117-c008-64cfcce8b819"
   },
   "outputs": [
    {
     "data": {
      "text/plain": [
       "-2.9169868288775844"
      ]
     },
     "execution_count": 38,
     "metadata": {},
     "output_type": "execute_result"
    }
   ],
   "source": [
    "(69 - mean_height)/sd_height"
   ]
  },
  {
   "cell_type": "markdown",
   "metadata": {
    "colab_type": "text",
    "id": "GjSlMrEpyhVB"
   },
   "source": [
    "What we have observed is that the tallest and shortest players were both just a few SDs away from the average height. This is an example of why the SD is a useful measure of spread. No matter what the shape of the histogram, the average and the SD together tell you a lot about where the histogram is situated on the number line."
   ]
  },
  {
   "cell_type": "markdown",
   "metadata": {
    "colab_type": "text",
    "id": "zOjbdVRCyhVC"
   },
   "source": [
    "### First main reason for measuring spread by the SD\n",
    "\n",
    "**Informal statement.** In all numerical data sets, the bulk of the entries are within the range \"average $\\pm$ a few SDs\".\n",
    "\n",
    "For now, resist the desire to know exactly what fuzzy words like \"bulk\" and \"few\" mean. We wil make them precise later in this section. Let's just examine the statement in the context of some more examples."
   ]
  },
  {
   "cell_type": "markdown",
   "metadata": {
    "colab_type": "text",
    "id": "u283JKROyhVD"
   },
   "source": [
    "We have already seen that *all* of the heights of the NBA players were in the range \"average $\\pm$ 3 SDs\". \n",
    "\n",
    "What about the ages? Here is a histogram of the distribution, along with the mean and SD of the ages."
   ]
  },
  {
   "cell_type": "code",
   "execution_count": 39,
   "metadata": {
    "colab": {
     "base_uri": "https://localhost:8080/",
     "height": 301
    },
    "colab_type": "code",
    "id": "Pb_JdFvayhVE",
    "outputId": "6e8a35f0-cbe0-44c1-a0e7-04fede7a77e3"
   },
   "outputs": [
    {
     "data": {
      "image/png": "[encoded data removed]",
      "text/plain": [
       "<matplotlib.figure.Figure at 0x1eb962f72b0>"
      ]
     },
     "metadata": {},
     "output_type": "display_data"
    }
   ],
   "source": [
    "nba13.select('Age in 2013').hist(bins=np.arange(15, 45, 1))"
   ]
  },
  {
   "cell_type": "code",
   "execution_count": 40,
   "metadata": {
    "colab": {
     "base_uri": "https://localhost:8080/",
     "height": 35
    },
    "colab_type": "code",
    "id": "tx96lZSWyhVG",
    "outputId": "35a2f4b4-acb5-4908-f789-b25283a2e4e5"
   },
   "outputs": [
    {
     "data": {
      "text/plain": [
       "(26.19009900990099, 4.321200441720307)"
      ]
     },
     "execution_count": 40,
     "metadata": {},
     "output_type": "execute_result"
    }
   ],
   "source": [
    "ages = nba13.column('Age in 2013')\n",
    "mean_age = np.mean(ages)\n",
    "sd_age = np.std(ages)\n",
    "mean_age, sd_age"
   ]
  },
  {
   "cell_type": "markdown",
   "metadata": {
    "colab_type": "text",
    "id": "lrwtAKTjyhVI"
   },
   "source": [
    "The average age was just over 26 years, and the SD was about 4.3 years.\n",
    "\n",
    "How far off were the ages from the average? Just as we did with the heights, let's look at the two extreme values of the ages.\n",
    "\n",
    "Juwan Howard was the oldest player, at 40. "
   ]
  },
  {
   "cell_type": "code",
   "execution_count": 41,
   "metadata": {
    "colab": {
     "base_uri": "https://localhost:8080/",
     "height": 170
    },
    "colab_type": "code",
    "id": "FAPn6E-SyhVJ",
    "outputId": "90400258-1c79-4afc-9d6b-26f99def273a"
   },
   "outputs": [
    {
     "data": {
      "text/html": [
       "<table border=\"1\" class=\"dataframe\">\n",
       "    <thead>\n",
       "        <tr>\n",
       "            <th>Name</th> <th>Position</th> <th>Height</th> <th>Weight</th> <th>Age in 2013</th>\n",
       "        </tr>\n",
       "    </thead>\n",
       "    <tbody>\n",
       "        <tr>\n",
       "            <td>Juwan Howard</td> <td>Forward </td> <td>81    </td> <td>250   </td> <td>40         </td>\n",
       "        </tr>\n",
       "        <tr>\n",
       "            <td>Marcus Camby</td> <td>Center  </td> <td>83    </td> <td>235   </td> <td>39         </td>\n",
       "        </tr>\n",
       "        <tr>\n",
       "            <td>Derek Fisher</td> <td>Guard   </td> <td>73    </td> <td>210   </td> <td>39         </td>\n",
       "        </tr>\n",
       "    </tbody>\n",
       "</table>\n",
       "<p>... (502 rows omitted)</p>"
      ],
      "text/plain": [
       "<IPython.core.display.HTML object>"
      ]
     },
     "metadata": {},
     "output_type": "display_data"
    }
   ],
   "source": [
    "nba13.sort('Age in 2013', descending=True).show(3)"
   ]
  },
  {
   "cell_type": "markdown",
   "metadata": {
    "colab_type": "text",
    "id": "Nhkgcsl8yhVK"
   },
   "source": [
    "Howard's age was about 3.2 SDs above average."
   ]
  },
  {
   "cell_type": "code",
   "execution_count": 42,
   "metadata": {
    "colab": {
     "base_uri": "https://localhost:8080/",
     "height": 35
    },
    "colab_type": "code",
    "id": "fL4DbfGIyhVL",
    "outputId": "e53c9da5-9c09-4232-f7a4-1c7fea8be461"
   },
   "outputs": [
    {
     "data": {
      "text/plain": [
       "3.1958482778922357"
      ]
     },
     "execution_count": 42,
     "metadata": {},
     "output_type": "execute_result"
    }
   ],
   "source": [
    "(40 - mean_age)/sd_age"
   ]
  },
  {
   "cell_type": "markdown",
   "metadata": {
    "colab_type": "text",
    "id": "u7qD7NJHyhVN"
   },
   "source": [
    "The youngest was 15-year-old Jarvis Varnado, who won the NBA Championship that year with the Miami Heat. His age was about 2.6 SDs below average."
   ]
  },
  {
   "cell_type": "code",
   "execution_count": 43,
   "metadata": {
    "colab": {
     "base_uri": "https://localhost:8080/",
     "height": 170
    },
    "colab_type": "code",
    "id": "RKtZdcHSyhVO",
    "outputId": "a8a23cf0-908c-4405-b019-d0f01157f71e"
   },
   "outputs": [
    {
     "data": {
      "text/html": [
       "<table border=\"1\" class=\"dataframe\">\n",
       "    <thead>\n",
       "        <tr>\n",
       "            <th>Name</th> <th>Position</th> <th>Height</th> <th>Weight</th> <th>Age in 2013</th>\n",
       "        </tr>\n",
       "    </thead>\n",
       "    <tbody>\n",
       "        <tr>\n",
       "            <td>Jarvis Varnado       </td> <td>Forward </td> <td>81    </td> <td>230   </td> <td>15         </td>\n",
       "        </tr>\n",
       "        <tr>\n",
       "            <td>Giannis Antetokounmpo</td> <td>Forward </td> <td>81    </td> <td>205   </td> <td>18         </td>\n",
       "        </tr>\n",
       "        <tr>\n",
       "            <td>Sergey Karasev       </td> <td>Guard   </td> <td>79    </td> <td>197   </td> <td>19         </td>\n",
       "        </tr>\n",
       "    </tbody>\n",
       "</table>\n",
       "<p>... (502 rows omitted)</p>"
      ],
      "text/plain": [
       "<IPython.core.display.HTML object>"
      ]
     },
     "metadata": {},
     "output_type": "display_data"
    }
   ],
   "source": [
    "nba13.sort('Age in 2013').show(3)"
   ]
  },
  {
   "cell_type": "code",
   "execution_count": 44,
   "metadata": {
    "colab": {
     "base_uri": "https://localhost:8080/",
     "height": 35
    },
    "colab_type": "code",
    "id": "kOzlrbSuyhVR",
    "outputId": "3bfa9889-45a0-4cfd-9176-66d5327e4602"
   },
   "outputs": [
    {
     "data": {
      "text/plain": [
       "-2.589581103867081"
      ]
     },
     "execution_count": 44,
     "metadata": {},
     "output_type": "execute_result"
    }
   ],
   "source": [
    "(15 - mean_age)/sd_age"
   ]
  },
  {
   "cell_type": "markdown",
   "metadata": {
    "colab_type": "text",
    "id": "ztOzUumFyhVU"
   },
   "source": [
    "What we have observed for the heights and ages is true in great generality. For *all* lists, the bulk of the entries are no more than 2 or 3 SDs away from the average. "
   ]
  },
  {
   "cell_type": "markdown",
   "metadata": {
    "colab_type": "text",
    "id": "QWXmhsMOyhVV"
   },
   "source": [
    "### Chebychev's Bounds ###\n",
    "The Russian mathematician [Pafnuty Chebychev](https://en.wikipedia.org/wiki/Pafnuty_Chebyshev) (1821-1894) proved a result that makes our rough statements precise.\n",
    "\n",
    "**For all lists, and all numbers $z$, the proportion of entries that are in the range\n",
    "\"average $\\pm z$ SDs\" is at least $1 - \\frac{1}{z^2}$.**\n",
    "\n",
    "It is important to note that the result gives a bound, not an exact value or an approximation.\n",
    "\n",
    "What makes the result powerful is that it is true for all lists – all distributions, no matter how irregular. \n",
    "\n",
    "Specifically, it says that for every list:\n",
    "\n",
    "- the proportion in the range \"average $\\pm$ 2 SDs\" is **at least 1 - 1/4 = 0.75**\n",
    "\n",
    "- the proportion in the range \"average $\\pm$ 3 SDs\" is **at least 1 - 1/9 $\\approx$ 0.89**\n",
    "\n",
    "- the proportion in the range \"average $\\pm$ 4.5 SDs\" is **at least 1 - 1/$\\boldsymbol{4.5^2}$ $\\approx$ 0.95**\n",
    "\n",
    "As we noted above, Chebychev's result gives a lower bound, not an exact answer or an approximation. For example, the percent of entries in the range \"average $\\pm ~2$ SDs\" might be quite a bit larger than 75%. But it cannot be smaller."
   ]
  },
  {
   "cell_type": "markdown",
   "metadata": {
    "colab_type": "text",
    "id": "R7Pkcik0yhVV"
   },
   "source": [
    "### Standard units\n",
    "\n",
    "In the calculations above, the quantity $z$ measures *standard units*, the number of standard deviations above average.\n",
    "\n",
    "Some values of standard units are negative, corresponding to original values that are below average. Other values of standard units are positive. But no matter what the distribution of the list looks like, Chebychev's bounds imply that standard units will typically be in the (-5, 5) range.\n",
    "\n",
    "To convert a value to standard units, first find how far it is from average, and then compare that deviation with the standard deviation.\n",
    "$$\n",
    "z ~=~ \\frac{\\mbox{value }-\\mbox{ average}}{\\mbox{SD}}\n",
    "$$\n",
    "\n",
    "As we will see, standard units are frequently used in data analysis. So it is useful to define a function that converts an array of numbers to standard units."
   ]
  },
  {
   "cell_type": "code",
   "execution_count": 45,
   "metadata": {
    "colab": {},
    "colab_type": "code",
    "collapsed": true,
    "id": "r6efIUgkyhVW"
   },
   "outputs": [],
   "source": [
    "def standard_units(numbers_array):\n",
    "    \"Convert any array of numbers to standard units.\"\n",
    "    return (numbers_array - np.mean(numbers_array))/np.std(numbers_array)    "
   ]
  },
  {
   "cell_type": "markdown",
   "metadata": {
    "colab_type": "text",
    "id": "ah8Q9M2byhVX"
   },
   "source": [
    "### Example ###\n",
    "As we saw in an earlier section, the table `united` contains a column `Delay` consisting of the departure delay times, in minutes, of over thousands of United Airlines flights in the summer of 2015. We will create a new column called `Delay (Standard Units)` by applying the function `standard_units` to the column of delay times. This allows us to see all the delay times in minutes as well as their corresponding values in standard units. "
   ]
  },
  {
   "cell_type": "code",
   "execution_count": 46,
   "metadata": {
    "colab": {
     "base_uri": "https://localhost:8080/",
     "height": 439
    },
    "colab_type": "code",
    "id": "Uf3w1a1oyhVY",
    "outputId": "d737065b-6304-491a-ed6a-90f89bda61ae"
   },
   "outputs": [
    {
     "data": {
      "text/html": [
       "<table border=\"1\" class=\"dataframe\">\n",
       "    <thead>\n",
       "        <tr>\n",
       "            <th>Date</th> <th>Flight Number</th> <th>Destination</th> <th>Delay</th> <th>Delay (Standard Units)</th>\n",
       "        </tr>\n",
       "    </thead>\n",
       "    <tbody>\n",
       "        <tr>\n",
       "            <td>6/1/15</td> <td>73           </td> <td>HNL        </td> <td>257  </td> <td>6.08766               </td>\n",
       "        </tr>\n",
       "        <tr>\n",
       "            <td>6/1/15</td> <td>217          </td> <td>EWR        </td> <td>28   </td> <td>0.287279              </td>\n",
       "        </tr>\n",
       "        <tr>\n",
       "            <td>6/1/15</td> <td>237          </td> <td>STL        </td> <td>-3   </td> <td>-0.497924             </td>\n",
       "        </tr>\n",
       "        <tr>\n",
       "            <td>6/1/15</td> <td>250          </td> <td>SAN        </td> <td>0    </td> <td>-0.421937             </td>\n",
       "        </tr>\n",
       "        <tr>\n",
       "            <td>6/1/15</td> <td>267          </td> <td>PHL        </td> <td>64   </td> <td>1.19913               </td>\n",
       "        </tr>\n",
       "        <tr>\n",
       "            <td>6/1/15</td> <td>273          </td> <td>SEA        </td> <td>-6   </td> <td>-0.573912             </td>\n",
       "        </tr>\n",
       "        <tr>\n",
       "            <td>6/1/15</td> <td>278          </td> <td>SEA        </td> <td>-8   </td> <td>-0.62457              </td>\n",
       "        </tr>\n",
       "        <tr>\n",
       "            <td>6/1/15</td> <td>292          </td> <td>EWR        </td> <td>12   </td> <td>-0.117987             </td>\n",
       "        </tr>\n",
       "        <tr>\n",
       "            <td>6/1/15</td> <td>300          </td> <td>HNL        </td> <td>20   </td> <td>0.0846461             </td>\n",
       "        </tr>\n",
       "        <tr>\n",
       "            <td>6/1/15</td> <td>317          </td> <td>IND        </td> <td>-10  </td> <td>-0.675228             </td>\n",
       "        </tr>\n",
       "    </tbody>\n",
       "</table>\n",
       "<p>... (13815 rows omitted)</p>"
      ],
      "text/plain": [
       "Date   | Flight Number | Destination | Delay | Delay (Standard Units)\n",
       "6/1/15 | 73            | HNL         | 257   | 6.08766\n",
       "6/1/15 | 217           | EWR         | 28    | 0.287279\n",
       "6/1/15 | 237           | STL         | -3    | -0.497924\n",
       "6/1/15 | 250           | SAN         | 0     | -0.421937\n",
       "6/1/15 | 267           | PHL         | 64    | 1.19913\n",
       "6/1/15 | 273           | SEA         | -6    | -0.573912\n",
       "6/1/15 | 278           | SEA         | -8    | -0.62457\n",
       "6/1/15 | 292           | EWR         | 12    | -0.117987\n",
       "6/1/15 | 300           | HNL         | 20    | 0.0846461\n",
       "6/1/15 | 317           | IND         | -10   | -0.675228\n",
       "... (13815 rows omitted)"
      ]
     },
     "execution_count": 46,
     "metadata": {},
     "output_type": "execute_result"
    }
   ],
   "source": [
    "united = Table.read_table('https://gitlab.com/tae-public/data/raw/master/cs61/data8assets/textbook/chapters/united_summer2015.csv')\n",
    "united = united.with_column(\n",
    "    'Delay (Standard Units)', standard_units(united.column('Delay'))\n",
    ")\n",
    "united"
   ]
  },
  {
   "cell_type": "markdown",
   "metadata": {
    "colab_type": "text",
    "id": "rdKcnOpJyhVa"
   },
   "source": [
    "The standard units that we can see are consistent with what we expect based on Chebychev's bounds. Most are of quite small size; only one is above 6.\n",
    "\n",
    "But something rather alarming happens when we sort the delay times from highest to lowest. The standard units that we can see are extremely high!"
   ]
  },
  {
   "cell_type": "code",
   "execution_count": 47,
   "metadata": {
    "colab": {
     "base_uri": "https://localhost:8080/",
     "height": 385
    },
    "colab_type": "code",
    "id": "mj1QFQ6GyhVb",
    "outputId": "66e095ed-20f5-4c37-d6fd-36b4650642e8"
   },
   "outputs": [
    {
     "data": {
      "text/html": [
       "<table border=\"1\" class=\"dataframe\">\n",
       "    <thead>\n",
       "        <tr>\n",
       "            <th>Date</th> <th>Flight Number</th> <th>Destination</th> <th>Delay</th> <th>Delay (Standard Units)</th>\n",
       "        </tr>\n",
       "    </thead>\n",
       "    <tbody>\n",
       "        <tr>\n",
       "            <td>6/21/15</td> <td>1964         </td> <td>SEA        </td> <td>580  </td> <td>14.269                </td>\n",
       "        </tr>\n",
       "        <tr>\n",
       "            <td>6/22/15</td> <td>300          </td> <td>HNL        </td> <td>537  </td> <td>13.1798               </td>\n",
       "        </tr>\n",
       "        <tr>\n",
       "            <td>6/21/15</td> <td>1149         </td> <td>IAD        </td> <td>508  </td> <td>12.4453               </td>\n",
       "        </tr>\n",
       "        <tr>\n",
       "            <td>6/20/15</td> <td>353          </td> <td>ORD        </td> <td>505  </td> <td>12.3693               </td>\n",
       "        </tr>\n",
       "        <tr>\n",
       "            <td>8/23/15</td> <td>1589         </td> <td>ORD        </td> <td>458  </td> <td>11.1788               </td>\n",
       "        </tr>\n",
       "        <tr>\n",
       "            <td>7/23/15</td> <td>1960         </td> <td>LAX        </td> <td>438  </td> <td>10.6722               </td>\n",
       "        </tr>\n",
       "        <tr>\n",
       "            <td>6/23/15</td> <td>1606         </td> <td>ORD        </td> <td>430  </td> <td>10.4696               </td>\n",
       "        </tr>\n",
       "        <tr>\n",
       "            <td>6/4/15 </td> <td>1743         </td> <td>LAX        </td> <td>408  </td> <td>9.91236               </td>\n",
       "        </tr>\n",
       "        <tr>\n",
       "            <td>6/17/15</td> <td>1122         </td> <td>HNL        </td> <td>405  </td> <td>9.83637               </td>\n",
       "        </tr>\n",
       "        <tr>\n",
       "            <td>7/27/15</td> <td>572          </td> <td>ORD        </td> <td>385  </td> <td>9.32979               </td>\n",
       "        </tr>\n",
       "    </tbody>\n",
       "</table>\n",
       "<p>... (13815 rows omitted)</p>"
      ],
      "text/plain": [
       "Date    | Flight Number | Destination | Delay | Delay (Standard Units)\n",
       "6/21/15 | 1964          | SEA         | 580   | 14.269\n",
       "6/22/15 | 300           | HNL         | 537   | 13.1798\n",
       "6/21/15 | 1149          | IAD         | 508   | 12.4453\n",
       "6/20/15 | 353           | ORD         | 505   | 12.3693\n",
       "8/23/15 | 1589          | ORD         | 458   | 11.1788\n",
       "7/23/15 | 1960          | LAX         | 438   | 10.6722\n",
       "6/23/15 | 1606          | ORD         | 430   | 10.4696\n",
       "6/4/15  | 1743          | LAX         | 408   | 9.91236\n",
       "6/17/15 | 1122          | HNL         | 405   | 9.83637\n",
       "7/27/15 | 572           | ORD         | 385   | 9.32979\n",
       "... (13815 rows omitted)"
      ]
     },
     "execution_count": 47,
     "metadata": {},
     "output_type": "execute_result"
    }
   ],
   "source": [
    "united.sort('Delay', descending=True)"
   ]
  },
  {
   "cell_type": "markdown",
   "metadata": {
    "colab_type": "text",
    "id": "z6CFtSIiyhVd"
   },
   "source": [
    "What this shows is that it is possible for data to be many SDs above average (and for flights to be delayed by almost 10 hours). The highest value of delay is more than 14 in standard units. \n",
    "\n",
    "However, the proportion of these extreme values is small, and Chebychev's bounds still hold true. For example, let us calculate the percent of delay times that are in the range \"average $\\pm$ 3 SDs\". This is the same as the percent of times for which the standard units are in the range (-3, 3). That is about 98%, as computed below, consistent with Chebychev's bound of \"at least 89%\". "
   ]
  },
  {
   "cell_type": "code",
   "execution_count": 48,
   "metadata": {
    "colab": {
     "base_uri": "https://localhost:8080/",
     "height": 35
    },
    "colab_type": "code",
    "id": "JKKgWKwayhVe",
    "outputId": "de17fc04-a323-4ef8-e809-46136ed9fe39"
   },
   "outputs": [
    {
     "data": {
      "text/plain": [
       "0.9790235081374322"
      ]
     },
     "execution_count": 48,
     "metadata": {},
     "output_type": "execute_result"
    }
   ],
   "source": [
    "within_3_sd = united.where('Delay (Standard Units)', are.between(-3, 3))\n",
    "within_3_sd.num_rows/united.num_rows"
   ]
  },
  {
   "cell_type": "markdown",
   "metadata": {
    "colab_type": "text",
    "id": "ev9qpDs0yhVh"
   },
   "source": [
    "The histogram of delay times is shown below, with the horizontal axis in standard units. By the table above, the right hand tail continues all the way out to $z=14.27$ standard units (580 minutes). The area of the histogram outside the range $z=-3$ to $z=3$ is about 2%, put together in tiny little bits that are mostly invisible in the histogram."
   ]
  },
  {
   "cell_type": "code",
   "execution_count": 49,
   "metadata": {
    "colab": {
     "base_uri": "https://localhost:8080/",
     "height": 301
    },
    "colab_type": "code",
    "id": "Wt1MoxDbyhVh",
    "outputId": "4f627e6b-a885-43b5-c6ef-40e3161de8a9"
   },
   "outputs": [
    {
     "data": {
      "image/png": "[encoded data removed]",
      "text/plain": [
       "<matplotlib.figure.Figure at 0x1eb965bf400>"
      ]
     },
     "metadata": {},
     "output_type": "display_data"
    }
   ],
   "source": [
    "united.hist('Delay (Standard Units)', bins=np.arange(-5, 15.5, 0.5))\n",
    "plots.xticks(np.arange(-6, 17, 3));"
   ]
  },
  {
   "cell_type": "markdown",
   "metadata": {
    "colab_type": "text",
    "id": "4gLm2gPLy0sS"
   },
   "source": [
    "# Unit 3: The SD and the Normal Curve"
   ]
  },
  {
   "cell_type": "markdown",
   "metadata": {
    "colab_type": "text",
    "id": "d01QSFYly6RO"
   },
   "source": [
    "### The SD and the Normal Curve ###\n",
    "\n",
    "We know that the mean is the balance point of the histogram. Unlike the mean, the SD is usually not easy to identify by looking at the histogram. \n",
    "\n",
    "However, there is one shape of distribution for which the SD is almost as clearly identifiable as the mean. That is the bell-shaped disribution. This section examines that shape, as it appears frequently in probability histograms and also in some histograms of data.  "
   ]
  },
  {
   "cell_type": "markdown",
   "metadata": {
    "colab_type": "text",
    "id": "N0Nk4_xoy6RP"
   },
   "source": [
    "### A Roughly Bell-Shaped Histogram of Data ###\n",
    "Let us look at the distribution of heights of mothers in our familiar sample of 1,174 mother-newborn pairs. The mothers' heights have a mean of 64 inches and an SD of 2.5 inches. Unlike the heights of the basketball players, the mothers' heights are distributed fairly symmetrically about the mean in a bell-shaped curve."
   ]
  },
  {
   "cell_type": "code",
   "execution_count": 50,
   "metadata": {
    "colab": {
     "base_uri": "https://localhost:8080/",
     "height": 72
    },
    "colab_type": "code",
    "id": "TIZ-HtIBy6RQ",
    "outputId": "7141f895-7ba5-49d3-bed0-0d3797f71579"
   },
   "outputs": [],
   "source": [
    "baby = Table.read_table('https://gitlab.com/tae-public/data/raw/master/cs61/data8assets/textbook/chapters/baby.csv')"
   ]
  },
  {
   "cell_type": "code",
   "execution_count": 51,
   "metadata": {
    "colab": {
     "base_uri": "https://localhost:8080/",
     "height": 35
    },
    "colab_type": "code",
    "id": "1uzJe6nOy6RT",
    "outputId": "3814afe9-da57-498c-e417-7314ebd82418"
   },
   "outputs": [
    {
     "data": {
      "text/plain": [
       "64.0"
      ]
     },
     "execution_count": 51,
     "metadata": {},
     "output_type": "execute_result"
    }
   ],
   "source": [
    "heights = baby.column('Maternal Height')\n",
    "mean_height = np.round(np.mean(heights), 1)\n",
    "mean_height"
   ]
  },
  {
   "cell_type": "code",
   "execution_count": 52,
   "metadata": {
    "colab": {
     "base_uri": "https://localhost:8080/",
     "height": 35
    },
    "colab_type": "code",
    "id": "JqQHvPuoy6RX",
    "outputId": "1bbe9034-5bd0-4961-ba6a-6d486ae27f21"
   },
   "outputs": [
    {
     "data": {
      "text/plain": [
       "2.5"
      ]
     },
     "execution_count": 52,
     "metadata": {},
     "output_type": "execute_result"
    }
   ],
   "source": [
    "sd_height = np.round(np.std(heights), 1)\n",
    "sd_height"
   ]
  },
  {
   "cell_type": "code",
   "execution_count": 53,
   "metadata": {
    "colab": {
     "base_uri": "https://localhost:8080/",
     "height": 301
    },
    "colab_type": "code",
    "id": "CnkiYRLyy6Ra",
    "outputId": "541a19ed-7557-41a1-d16e-59ead1e9fdba"
   },
   "outputs": [
    {
     "data": {
      "image/png": "[encoded data removed]",
      "text/plain": [
       "<matplotlib.figure.Figure at 0x1eb965d0898>"
      ]
     },
     "metadata": {},
     "output_type": "display_data"
    }
   ],
   "source": [
    "baby.hist('Maternal Height', bins=np.arange(55.5, 72.5, 1), unit='inch')\n",
    "positions = np.arange(-3, 3.1, 1)*sd_height + mean_height\n",
    "plots.xticks(positions);"
   ]
  },
  {
   "cell_type": "markdown",
   "metadata": {
    "colab_type": "text",
    "id": "pD7ObR3yy6Rc"
   },
   "source": [
    "The last two lines of code in the cell above change the labeling of the horizontal axis. Now, the labels correspond to \"average $\\pm$ $z$ SDs\" for $z = 0, \\pm 1, \\pm 2$, and $\\pm 3$. Because of the shape of the distribution, the \"center\" has an unambiguous meaning and is clearly visible at 64."
   ]
  },
  {
   "cell_type": "markdown",
   "metadata": {
    "colab_type": "text",
    "id": "SMNV__Cxy6Rd"
   },
   "source": [
    "### How to Spot the SD on a Bell Shaped Curve ###\n",
    "\n",
    "To see how the SD is related to the curve, start at the top of the curve and look towards the right. Notice that there is a place where the curve changes from looking like an \"upside-down cup\" to a \"right-way-up cup\"; formally, the curve has a point of inflection. That point is one SD above average. It is the point $z=1$, which is \"average plus 1 SD\" = 66.5 inches.\n",
    "\n",
    "Symmetrically on the left-hand side of the mean, the point of inflection is at $z=-1$, that is, \"average minus 1 SD\" = 61.5 inches. \n",
    "\n",
    "In general, **for bell-shaped distributions, the SD is the distance between the mean and the points of inflection on either side.**"
   ]
  },
  {
   "cell_type": "markdown",
   "metadata": {
    "colab_type": "text",
    "id": "qrXRbCYvy6Rd"
   },
   "source": [
    "### The standard normal curve ###\n",
    "\n",
    "All the bell-shaped histograms that we have seen look essentially the same apart from the labels on the axes. Indeed, there is really just one basic curve from which all of these curves can be drawn just by relabeling the axes appropriately. \n",
    "\n",
    "To draw that basic curve, we will use the units into which we can convert every list: standard units. The resulting curve is therefore called the *standard normal curve*. "
   ]
  },
  {
   "cell_type": "markdown",
   "metadata": {
    "colab_type": "text",
    "id": "rd74NXeIy6Re"
   },
   "source": [
    "The standard normal curve has an impressive equation. But for now, it is best to think of it as a smoothed outline of a histogram of a variable that has been measured in standard units and has a bell-shaped distribution.\n",
    "\n",
    "$$\n",
    "\\phi(z) = {\\frac{1}{\\sqrt{2 \\pi}}} e^{-\\frac{1}{2}z^2}, ~~ -\\infty < z < \\infty\n",
    "$$"
   ]
  },
  {
   "cell_type": "code",
   "execution_count": 54,
   "metadata": {
    "colab": {
     "base_uri": "https://localhost:8080/",
     "height": 325
    },
    "colab_type": "code",
    "id": "NcqYrUh_y6Rf",
    "outputId": "4c5af93a-df43-4600-c500-93c8b7d5473b",
    "tags": [
     "remove_input"
    ]
   },
   "outputs": [
    {
     "data": {
      "image/png": "[encoded data removed]",
      "text/plain": [
       "<matplotlib.figure.Figure at 0x1eb964f1588>"
      ]
     },
     "metadata": {},
     "output_type": "display_data"
    }
   ],
   "source": [
    "# The standard normal curve\n",
    "\n",
    "plot_normal_cdf()"
   ]
  },
  {
   "cell_type": "markdown",
   "metadata": {
    "colab_type": "text",
    "id": "E4iXjuLWy6Rh"
   },
   "source": [
    "As always when you examine a new histogram, start by looking at the horizontal axis. On the horizontal axis of the standard normal curve, the values are standard units. \n",
    "\n",
    "Here are some properties of the curve. Some are apparent by observation, and others require a considerable amount of mathematics to establish.\n",
    "\n",
    "- The total area under the curve is 1. So you can think of it as a histogram drawn to the density scale.\n",
    "\n",
    "- The curve is symmetric about 0. So if a variable has this distribution, its mean and median are both 0.\n",
    "\n",
    "- The points of inflection of the curve are at -1 and +1. \n",
    "\n",
    "- If a variable has this distribution, its SD is 1. The normal curve is one of the very few distributions that has an SD so clearly identifiable on the histogram."
   ]
  },
  {
   "cell_type": "markdown",
   "metadata": {
    "colab_type": "text",
    "id": "bHM_k7TCy6Ri"
   },
   "source": [
    "Since we are thinking of the curve as a smoothed histogram, we will want to represent proportions of the total amount of data by areas under the curve. \n",
    "\n",
    "Areas under smooth curves are often found by calculus, using a method called integration. It is a fact of mathematics, however, that the standard normal curve cannot be integrated in any of the usual ways of calculus. \n",
    "\n",
    "Therefore, areas under the curve have to be approximated. That is why almost all statistics textbooks carry tables of areas under the normal curve. It is also why all statistical systems, including a module of Python, include methods that provide excellent approximations to those areas."
   ]
  },
  {
   "cell_type": "code",
   "execution_count": 55,
   "metadata": {
    "colab": {},
    "colab_type": "code",
    "collapsed": true,
    "id": "dg6Hb4Rzy6Rj"
   },
   "outputs": [],
   "source": [
    "from scipy import stats"
   ]
  },
  {
   "cell_type": "markdown",
   "metadata": {
    "colab_type": "text",
    "id": "MxEiGNXBy6Rm"
   },
   "source": [
    "### The standard normal \"cdf\" ###\n",
    "\n",
    "The fundamental function for finding areas under the normal curve is `stats.norm.cdf`. It takes a numerical argument and returns all the area under the curve to the left of that number. Formally, it is called the \"cumulative distribution function\" of the standard normal curve. That rather unwieldy mouthful is abbreviated as cdf.\n",
    "\n",
    "Let us use this function to find the area to the left of $z=1$ under the standard normal curve. "
   ]
  },
  {
   "cell_type": "code",
   "execution_count": 56,
   "metadata": {
    "colab": {
     "base_uri": "https://localhost:8080/",
     "height": 325
    },
    "colab_type": "code",
    "id": "UV6PiPO1y6Rm",
    "outputId": "6f1c6e6e-bf00-4250-e17f-b58f3272dc38",
    "tags": [
     "remove_input"
    ]
   },
   "outputs": [
    {
     "data": {
      "image/png": "[encoded data removed]",
      "text/plain": [
       "<matplotlib.figure.Figure at 0x1eb967ad518>"
      ]
     },
     "metadata": {},
     "output_type": "display_data"
    }
   ],
   "source": [
    "# Area under the standard normal curve, below 1\n",
    "\n",
    "plot_normal_cdf(1)"
   ]
  },
  {
   "cell_type": "markdown",
   "metadata": {
    "colab_type": "text",
    "id": "r0LaFswMy6Rp"
   },
   "source": [
    "The numerical value of the shaded area can be found by calling `stats.norm.cdf`."
   ]
  },
  {
   "cell_type": "code",
   "execution_count": 57,
   "metadata": {
    "colab": {
     "base_uri": "https://localhost:8080/",
     "height": 35
    },
    "colab_type": "code",
    "id": "trVrpzwvy6Rp",
    "outputId": "1f63e3f9-5a32-4827-94d2-6e270e7c4b17"
   },
   "outputs": [
    {
     "data": {
      "text/plain": [
       "0.8413447460685429"
      ]
     },
     "execution_count": 57,
     "metadata": {},
     "output_type": "execute_result"
    }
   ],
   "source": [
    "stats.norm.cdf(1)"
   ]
  },
  {
   "cell_type": "markdown",
   "metadata": {
    "colab_type": "text",
    "id": "_96mHqg5y6Rr"
   },
   "source": [
    "That's about 84%. We can now use the symmetry of the curve and the fact that the total area under the curve is 1 to find other areas. \n",
    "\n",
    "The area to the right of $z=1$ is about 100% - 84% = 16%."
   ]
  },
  {
   "cell_type": "code",
   "execution_count": 58,
   "metadata": {
    "colab": {
     "base_uri": "https://localhost:8080/",
     "height": 325
    },
    "colab_type": "code",
    "id": "vDjYu5D-y6Rs",
    "outputId": "48aac3fc-112c-486f-f28e-5eb7e065c8cf",
    "tags": [
     "remove_input"
    ]
   },
   "outputs": [
    {
     "data": {
      "image/png": "[encoded data removed]",
      "text/plain": [
       "<matplotlib.figure.Figure at 0x1eb9687cdd8>"
      ]
     },
     "metadata": {},
     "output_type": "display_data"
    }
   ],
   "source": [
    "# Area under the standard normal curve, above 1\n",
    "\n",
    "plot_normal_cdf(lbound=1)"
   ]
  },
  {
   "cell_type": "code",
   "execution_count": 59,
   "metadata": {
    "colab": {
     "base_uri": "https://localhost:8080/",
     "height": 35
    },
    "colab_type": "code",
    "id": "_DwIroMny6Ru",
    "outputId": "b6dede28-6439-4563-adce-d92d1bfc54eb"
   },
   "outputs": [
    {
     "data": {
      "text/plain": [
       "0.15865525393145707"
      ]
     },
     "execution_count": 59,
     "metadata": {},
     "output_type": "execute_result"
    }
   ],
   "source": [
    "1 - stats.norm.cdf(1)"
   ]
  },
  {
   "cell_type": "markdown",
   "metadata": {
    "colab_type": "text",
    "id": "Su-OnI8Qy6Rx"
   },
   "source": [
    "The area between $z=-1$ and $z=1$ can be computed in several different ways.  It is the gold area under the curve below. "
   ]
  },
  {
   "cell_type": "code",
   "execution_count": 60,
   "metadata": {
    "colab": {
     "base_uri": "https://localhost:8080/",
     "height": 325
    },
    "colab_type": "code",
    "id": "ePnhx4Cmy6Ry",
    "outputId": "580d1d42-6b8b-4a16-d64f-c1a6f82e08a7",
    "tags": [
     "remove_input"
    ]
   },
   "outputs": [
    {
     "data": {
      "image/png": "[encoded data removed]",
      "text/plain": [
       "<matplotlib.figure.Figure at 0x1eb966629b0>"
      ]
     },
     "metadata": {},
     "output_type": "display_data"
    }
   ],
   "source": [
    "# Area under the standard normal curve, between -1 and 1\n",
    "\n",
    "plot_normal_cdf(1, lbound=-1)"
   ]
  },
  {
   "cell_type": "markdown",
   "metadata": {
    "colab_type": "text",
    "id": "_JwS_qS2y6R0"
   },
   "source": [
    "For example, we could calculate the area as \"100% - two equal tails\", which works out to roughly 100% - 2x16% = 68%.\n",
    "\n",
    "Or we could note that the area between $z=1$ and $z=-1$ is equal to all the area to the left of $z=1$, minus all the area to the left of $z=-1$."
   ]
  },
  {
   "cell_type": "code",
   "execution_count": 61,
   "metadata": {
    "colab": {
     "base_uri": "https://localhost:8080/",
     "height": 35
    },
    "colab_type": "code",
    "id": "pCuo-Wv0y6R1",
    "outputId": "9a17d859-5c67-4179-fca9-78c790ce8ec3"
   },
   "outputs": [
    {
     "data": {
      "text/plain": [
       "0.6826894921370859"
      ]
     },
     "execution_count": 61,
     "metadata": {},
     "output_type": "execute_result"
    }
   ],
   "source": [
    "stats.norm.cdf(1) - stats.norm.cdf(-1)"
   ]
  },
  {
   "cell_type": "markdown",
   "metadata": {
    "colab_type": "text",
    "id": "MEx-6M77y6R3"
   },
   "source": [
    "By a similar calculation, we see that the area between $-2$ and 2 is about 95%."
   ]
  },
  {
   "cell_type": "code",
   "execution_count": 62,
   "metadata": {
    "colab": {
     "base_uri": "https://localhost:8080/",
     "height": 325
    },
    "colab_type": "code",
    "id": "0OIWvYmTy6R4",
    "outputId": "acb29ca5-f531-4b3f-c0d7-9d06adbcb483",
    "tags": [
     "remove_input"
    ]
   },
   "outputs": [
    {
     "data": {
      "image/png": "[encoded data removed]",
      "text/plain": [
       "<matplotlib.figure.Figure at 0x1eb9672ce10>"
      ]
     },
     "metadata": {},
     "output_type": "display_data"
    }
   ],
   "source": [
    "# Area under the standard normal curve, between -2 and 2\n",
    "\n",
    "plot_normal_cdf(2, lbound=-2)"
   ]
  },
  {
   "cell_type": "code",
   "execution_count": 63,
   "metadata": {
    "colab": {
     "base_uri": "https://localhost:8080/",
     "height": 35
    },
    "colab_type": "code",
    "id": "GVGgortKy6R7",
    "outputId": "baf574ed-a4ff-40de-cd0f-5160f989543c"
   },
   "outputs": [
    {
     "data": {
      "text/plain": [
       "0.9544997361036416"
      ]
     },
     "execution_count": 63,
     "metadata": {},
     "output_type": "execute_result"
    }
   ],
   "source": [
    "stats.norm.cdf(2) - stats.norm.cdf(-2)"
   ]
  },
  {
   "cell_type": "markdown",
   "metadata": {
    "colab_type": "text",
    "id": "Ak0Ndgh5y6SA"
   },
   "source": [
    "In other words, if a histogram is roughly bell shaped, the proportion of data in the range \"average $\\pm$ 2 SDs\" is about 95%. \n",
    "\n",
    "That is quite a bit more than Chebychev's lower bound of 75%. Chebychev's bound is weaker because it has to work for all distributions. If we know that a distribution is normal, we have good approximations to the proportions, not just bounds."
   ]
  },
  {
   "cell_type": "markdown",
   "metadata": {
    "colab_type": "text",
    "id": "yqU3096sy6SB"
   },
   "source": [
    "The table below compares what we know about all distributions and about normal distributions. Notice that when $z=1$, Chebychev's bound is correct but not illuminating.\n",
    "\n",
    "| Percent in Range   | All Distributions: Bound   | Normal Distribution: Approximation |\n",
    "| :---------------   | :---------------- --| :-------------------|\n",
    "|average $\\pm$ 1 SD  | at least 0%         | about 68%           |\n",
    "|average $\\pm$ 2 SDs | at least 75%        | about 95%           |\n",
    "|average $\\pm$ 3 SDs | at least 88.888...% | about 99.73%        |"
   ]
  },
  {
   "cell_type": "code",
   "execution_count": null,
   "metadata": {
    "collapsed": true
   },
   "outputs": [],
   "source": []
  }
 ],
 "metadata": {
  "colab": {
   "name": "CS63 Meeting01.ipynb",
   "provenance": []
  },
  "kernelspec": {
   "display_name": "Python 3",
   "language": "python",
   "name": "python3"
  },
  "language_info": {
   "codemirror_mode": {
    "name": "ipython",
    "version": 3
   },
   "file_extension": ".py",
   "mimetype": "text/x-python",
   "name": "python",
   "nbconvert_exporter": "python",
   "pygments_lexer": "ipython3",
   "version": "3.6.3"
  }
 },
 "nbformat": 4,
 "nbformat_minor": 1
}
