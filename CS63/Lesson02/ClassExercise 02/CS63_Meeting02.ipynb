{
 "cells": [
  {
   "cell_type": "markdown",
   "metadata": {
    "colab_type": "text",
    "id": "sCWn3bAkMoNG"
   },
   "source": [
    "# Unit 4: Central Limit Theorem"
   ]
  },
  {
   "cell_type": "code",
   "execution_count": 1,
   "metadata": {
    "colab": {},
    "colab_type": "code",
    "collapsed": true,
    "id": "7zy47BwiM5iB",
    "tags": [
     "remove_input"
    ]
   },
   "outputs": [],
   "source": [
    "from datascience import *\n",
    "%matplotlib inline\n",
    "path_data = 'https://gitlab.com/tae-public/data/raw/master/cs61/data8assets/textbook/chapters/'\n",
    "import matplotlib.pyplot as plots\n",
    "plots.style.use('fivethirtyeight')\n",
    "import math\n",
    "import numpy as np\n",
    "from scipy import stats"
   ]
  },
  {
   "cell_type": "code",
   "execution_count": 2,
   "metadata": {
    "colab": {
     "base_uri": "https://localhost:8080/",
     "height": 50
    },
    "colab_type": "code",
    "id": "wz3jWI1WM5iF",
    "outputId": "43e16d9c-ceaf-43db-db2e-cb21a15bc960",
    "tags": [
     "remove_input"
    ]
   },
   "outputs": [
    {
     "data": {
      "text/html": [
       "<table border=\"1\" class=\"dataframe\">\n",
       "    <thead>\n",
       "        <tr>\n",
       "            <th>Pocket</th> <th>Color</th>\n",
       "        </tr>\n",
       "    </thead>\n",
       "    <tbody>\n",
       "        <tr>\n",
       "            <td>0     </td> <td>green</td>\n",
       "        </tr>\n",
       "        <tr>\n",
       "            <td>00    </td> <td>green</td>\n",
       "        </tr>\n",
       "        <tr>\n",
       "            <td>1     </td> <td>red  </td>\n",
       "        </tr>\n",
       "        <tr>\n",
       "            <td>2     </td> <td>black</td>\n",
       "        </tr>\n",
       "        <tr>\n",
       "            <td>3     </td> <td>red  </td>\n",
       "        </tr>\n",
       "        <tr>\n",
       "            <td>4     </td> <td>black</td>\n",
       "        </tr>\n",
       "        <tr>\n",
       "            <td>5     </td> <td>red  </td>\n",
       "        </tr>\n",
       "        <tr>\n",
       "            <td>6     </td> <td>black</td>\n",
       "        </tr>\n",
       "        <tr>\n",
       "            <td>7     </td> <td>red  </td>\n",
       "        </tr>\n",
       "        <tr>\n",
       "            <td>8     </td> <td>black</td>\n",
       "        </tr>\n",
       "    </tbody>\n",
       "</table>\n",
       "<p>... (28 rows omitted)</p>"
      ],
      "text/plain": [
       "Pocket | Color\n",
       "0      | green\n",
       "00     | green\n",
       "1      | red\n",
       "2      | black\n",
       "3      | red\n",
       "4      | black\n",
       "5      | red\n",
       "6      | black\n",
       "7      | red\n",
       "8      | black\n",
       "... (28 rows omitted)"
      ]
     },
     "execution_count": 2,
     "metadata": {},
     "output_type": "execute_result"
    }
   ],
   "source": [
    "#colors = Table.read_table(path_data + 'roulette_wheel.csv').column('Color')\n",
    "\n",
    "colors = Table.read_table('DataFiles/roulette_wheel.csv').column('Color')\n",
    "\n",
    "pockets = make_array('0','00')\n",
    "for i in np.arange(1, 37):\n",
    "    pockets = np.append(pockets, str(i)) \n",
    "\n",
    "wheel = Table().with_columns(\n",
    "    'Pocket', pockets,\n",
    "    'Color', colors\n",
    ")\n",
    "wheel"
   ]
  },
  {
   "cell_type": "markdown",
   "metadata": {
    "colab_type": "text",
    "id": "LtblS5nzM5iH"
   },
   "source": [
    "### The Central Limit Theorem ###\n",
    "Very few of the data histograms that we have seen in this course have been bell shaped. When we have come across a bell shaped distribution, it has almost invariably been an empirical histogram of a statistic based on a random sample.\n",
    "\n",
    "The examples below show two very different situations in which an approximate bell shape appears in such histograms."
   ]
  },
  {
   "cell_type": "markdown",
   "metadata": {
    "colab_type": "text",
    "id": "-lCuLCjcM5iI"
   },
   "source": [
    "### Net Gain in Roulette ###\n",
    "In an earlier section, the bell appeared as the rough shape of the total amount of money we would make if we placed the same bet repeatedly on different spins of a roulette wheel. "
   ]
  },
  {
   "cell_type": "code",
   "execution_count": 3,
   "metadata": {
    "colab": {},
    "colab_type": "code",
    "id": "Zeck1aaBM5iJ",
    "outputId": "4ac5fadf-d9b1-42a0-bcd9-4405d19dd178"
   },
   "outputs": [
    {
     "data": {
      "text/html": [
       "<table border=\"1\" class=\"dataframe\">\n",
       "    <thead>\n",
       "        <tr>\n",
       "            <th>Pocket</th> <th>Color</th>\n",
       "        </tr>\n",
       "    </thead>\n",
       "    <tbody>\n",
       "        <tr>\n",
       "            <td>0     </td> <td>green</td>\n",
       "        </tr>\n",
       "        <tr>\n",
       "            <td>00    </td> <td>green</td>\n",
       "        </tr>\n",
       "        <tr>\n",
       "            <td>1     </td> <td>red  </td>\n",
       "        </tr>\n",
       "        <tr>\n",
       "            <td>2     </td> <td>black</td>\n",
       "        </tr>\n",
       "        <tr>\n",
       "            <td>3     </td> <td>red  </td>\n",
       "        </tr>\n",
       "        <tr>\n",
       "            <td>4     </td> <td>black</td>\n",
       "        </tr>\n",
       "        <tr>\n",
       "            <td>5     </td> <td>red  </td>\n",
       "        </tr>\n",
       "        <tr>\n",
       "            <td>6     </td> <td>black</td>\n",
       "        </tr>\n",
       "        <tr>\n",
       "            <td>7     </td> <td>red  </td>\n",
       "        </tr>\n",
       "        <tr>\n",
       "            <td>8     </td> <td>black</td>\n",
       "        </tr>\n",
       "    </tbody>\n",
       "</table>\n",
       "<p>... (28 rows omitted)</p>"
      ],
      "text/plain": [
       "Pocket | Color\n",
       "0      | green\n",
       "00     | green\n",
       "1      | red\n",
       "2      | black\n",
       "3      | red\n",
       "4      | black\n",
       "5      | red\n",
       "6      | black\n",
       "7      | red\n",
       "8      | black\n",
       "... (28 rows omitted)"
      ]
     },
     "execution_count": 3,
     "metadata": {},
     "output_type": "execute_result"
    }
   ],
   "source": [
    "wheel"
   ]
  },
  {
   "cell_type": "markdown",
   "metadata": {
    "colab_type": "text",
    "id": "oJdIhPnxM5iM"
   },
   "source": [
    "Recall that the bet on red pays even money, 1 to 1. We defined the function `red_winnings` that returns the net winnings on one \\$1 bet on red. Specifically, the function takes a color as its argument and returns 1 if the color is red. For all other colors it returns -1."
   ]
  },
  {
   "cell_type": "code",
   "execution_count": 4,
   "metadata": {
    "colab": {},
    "colab_type": "code",
    "collapsed": true,
    "id": "B9NIS2XmM5iN"
   },
   "outputs": [],
   "source": [
    "def red_winnings(color):\n",
    "    if color == 'red':\n",
    "        return 1\n",
    "    else:\n",
    "        return -1"
   ]
  },
  {
   "cell_type": "markdown",
   "metadata": {
    "colab_type": "text",
    "id": "Y7V5ZSdGM5iQ"
   },
   "source": [
    "The table `red` shows each pocket's winnings on red."
   ]
  },
  {
   "cell_type": "code",
   "execution_count": 5,
   "metadata": {
    "colab": {
     "base_uri": "https://localhost:8080/",
     "height": 372
    },
    "colab_type": "code",
    "id": "DYmzsvXAM5iQ",
    "outputId": "cab12833-2505-4fb6-c2dd-9c9ce83e9d35"
   },
   "outputs": [
    {
     "data": {
      "text/html": [
       "<table border=\"1\" class=\"dataframe\">\n",
       "    <thead>\n",
       "        <tr>\n",
       "            <th>Pocket</th> <th>Color</th> <th>Winnings: Red</th>\n",
       "        </tr>\n",
       "    </thead>\n",
       "    <tbody>\n",
       "        <tr>\n",
       "            <td>0     </td> <td>green</td> <td>-1           </td>\n",
       "        </tr>\n",
       "        <tr>\n",
       "            <td>00    </td> <td>green</td> <td>-1           </td>\n",
       "        </tr>\n",
       "        <tr>\n",
       "            <td>1     </td> <td>red  </td> <td>1            </td>\n",
       "        </tr>\n",
       "        <tr>\n",
       "            <td>2     </td> <td>black</td> <td>-1           </td>\n",
       "        </tr>\n",
       "        <tr>\n",
       "            <td>3     </td> <td>red  </td> <td>1            </td>\n",
       "        </tr>\n",
       "        <tr>\n",
       "            <td>4     </td> <td>black</td> <td>-1           </td>\n",
       "        </tr>\n",
       "        <tr>\n",
       "            <td>5     </td> <td>red  </td> <td>1            </td>\n",
       "        </tr>\n",
       "        <tr>\n",
       "            <td>6     </td> <td>black</td> <td>-1           </td>\n",
       "        </tr>\n",
       "        <tr>\n",
       "            <td>7     </td> <td>red  </td> <td>1            </td>\n",
       "        </tr>\n",
       "        <tr>\n",
       "            <td>8     </td> <td>black</td> <td>-1           </td>\n",
       "        </tr>\n",
       "    </tbody>\n",
       "</table>\n",
       "<p>... (28 rows omitted)</p>"
      ],
      "text/plain": [
       "Pocket | Color | Winnings: Red\n",
       "0      | green | -1\n",
       "00     | green | -1\n",
       "1      | red   | 1\n",
       "2      | black | -1\n",
       "3      | red   | 1\n",
       "4      | black | -1\n",
       "5      | red   | 1\n",
       "6      | black | -1\n",
       "7      | red   | 1\n",
       "8      | black | -1\n",
       "... (28 rows omitted)"
      ]
     },
     "execution_count": 5,
     "metadata": {},
     "output_type": "execute_result"
    }
   ],
   "source": [
    "red = wheel.with_column(\n",
    "    'Winnings: Red', wheel.apply(red_winnings, 'Color')\n",
    "    )\n",
    "red"
   ]
  },
  {
   "cell_type": "markdown",
   "metadata": {
    "colab_type": "text",
    "id": "n5wHivPtM5iT"
   },
   "source": [
    "Your net gain on one bet is one random draw from the `Winnings: Red` column. There is an 18/38 chance making \\$1, and a 20/38 chance of making -\\$1. This probability distribution is shown in the histogram below."
   ]
  },
  {
   "cell_type": "code",
   "execution_count": 6,
   "metadata": {
    "colab": {
     "base_uri": "https://localhost:8080/",
     "height": 301
    },
    "colab_type": "code",
    "id": "KpkMQ0jzM5iT",
    "outputId": "c478b75b-80bb-4ce5-8677-61366eb5dd1f"
   },
   "outputs": [
    {
     "data": {
      "image/png": "[encoded data removed]",
      "text/plain": [
       "<matplotlib.figure.Figure at 0x2a9501cbdd8>"
      ]
     },
     "metadata": {},
     "output_type": "display_data"
    }
   ],
   "source": [
    "red.select('Winnings: Red').hist(bins=np.arange(-1.5, 1.6, 1))"
   ]
  },
  {
   "cell_type": "markdown",
   "metadata": {
    "colab_type": "text",
    "id": "QDFD8r9BM5iW"
   },
   "source": [
    "Now suppose you bet many times on red. Your net winnings will be the sum of many draws made at random with replacement from the distribution above.\n",
    "\n",
    "It will take a bit of math to list all the possible values of your net winnings along with all of their chances. We won't do that; instead, we will approximate the probability distribution by simulation, as we have done all along in this course. \n",
    "\n",
    "The code below simulates your net gain if you bet \\$1 on red on 400 different spins of the roulette wheel. "
   ]
  },
  {
   "cell_type": "code",
   "execution_count": 7,
   "metadata": {
    "colab": {},
    "colab_type": "code",
    "collapsed": true,
    "id": "2WXXn25oM5iX"
   },
   "outputs": [],
   "source": [
    "num_bets = 400\n",
    "repetitions = 10000\n",
    "\n",
    "net_gain_red = make_array()\n",
    "\n",
    "for i in np.arange(repetitions):\n",
    "    spins = red.sample(num_bets)\n",
    "    new_net_gain_red = spins.column('Winnings: Red').sum()\n",
    "    net_gain_red = np.append(net_gain_red, new_net_gain_red)\n",
    "\n",
    "\n",
    "results = Table().with_column(\n",
    "    'Net Gain on Red', net_gain_red\n",
    "    )"
   ]
  },
  {
   "cell_type": "code",
   "execution_count": 8,
   "metadata": {
    "colab": {
     "base_uri": "https://localhost:8080/",
     "height": 304
    },
    "colab_type": "code",
    "id": "iGMiN8BEM5iZ",
    "outputId": "9d35290c-a4f7-49f1-fc97-3f6f83c2e5b5"
   },
   "outputs": [
    {
     "data": {
      "image/png": "[encoded data removed]",
      "text/plain": [
       "<matplotlib.figure.Figure at 0x2a9503b9358>"
      ]
     },
     "metadata": {},
     "output_type": "display_data"
    }
   ],
   "source": [
    "results.hist(bins=np.arange(-80, 50, 6))"
   ]
  },
  {
   "cell_type": "markdown",
   "metadata": {
    "colab_type": "text",
    "id": "Syrw-v_QM5ib"
   },
   "source": [
    "That's a roughly bell shaped histogram, even though the distribution we are drawing from is nowhere near bell shaped.\n",
    "\n",
    "**Center.** The distribution is centered near -20 dollars, roughly. To see why, note that your winnings will be \\$1 on about 18/38 of the bets, and -$1 on the remaining 20/38. So your average winnings per dollar bet will be roughly -5.26 cents:"
   ]
  },
  {
   "cell_type": "code",
   "execution_count": 9,
   "metadata": {
    "colab": {
     "base_uri": "https://localhost:8080/",
     "height": 34
    },
    "colab_type": "code",
    "id": "iM1BdZWTM5ib",
    "outputId": "87aaf948-7729-4bd9-ead6-9511e1381529"
   },
   "outputs": [
    {
     "data": {
      "text/plain": [
       "-0.05263157894736842"
      ]
     },
     "execution_count": 9,
     "metadata": {},
     "output_type": "execute_result"
    }
   ],
   "source": [
    "average_per_bet = 1*(18/38) + (-1)*(20/38)\n",
    "average_per_bet"
   ]
  },
  {
   "cell_type": "markdown",
   "metadata": {
    "colab_type": "text",
    "id": "FtqYU-ldM5ie"
   },
   "source": [
    "So in 400 bets you expect that your net gain will be about -\\$21:"
   ]
  },
  {
   "cell_type": "code",
   "execution_count": 10,
   "metadata": {
    "colab": {
     "base_uri": "https://localhost:8080/",
     "height": 34
    },
    "colab_type": "code",
    "id": "amnp6vjnM5if",
    "outputId": "43907b7b-9642-4435-ce4c-e00b5b840f09"
   },
   "outputs": [
    {
     "data": {
      "text/plain": [
       "-21.052631578947366"
      ]
     },
     "execution_count": 10,
     "metadata": {},
     "output_type": "execute_result"
    }
   ],
   "source": [
    "400 * average_per_bet"
   ]
  },
  {
   "cell_type": "markdown",
   "metadata": {
    "colab_type": "text",
    "id": "jkwgfWkfM5ih"
   },
   "source": [
    "For confirmation, we can compute the mean of the 10,000 simulated net gains:"
   ]
  },
  {
   "cell_type": "code",
   "execution_count": 11,
   "metadata": {
    "colab": {
     "base_uri": "https://localhost:8080/",
     "height": 34
    },
    "colab_type": "code",
    "id": "gccDuHmtM5ii",
    "outputId": "d7789d23-940a-4418-e64d-55c3f91df9a4"
   },
   "outputs": [
    {
     "data": {
      "text/plain": [
       "-21.0356"
      ]
     },
     "execution_count": 11,
     "metadata": {},
     "output_type": "execute_result"
    }
   ],
   "source": [
    "np.mean(results.column(0))"
   ]
  },
  {
   "cell_type": "markdown",
   "metadata": {
    "colab_type": "text",
    "id": "CrBLd9r6M5ik"
   },
   "source": [
    "**Spread.** Run your eye along the curve starting at the center and notice that the point of inflection is near 0. On a bell shaped curve, the SD is the distance from the center to a point of inflection. The center is roughly -\\$20, which means that the SD of the distribution is around \\$20.\n",
    "\n",
    "In the next section we will see where the \\$20 comes from. For now, let's confirm our observation by simply calculating the SD of the 10,000 simulated net gains:"
   ]
  },
  {
   "cell_type": "code",
   "execution_count": 12,
   "metadata": {
    "colab": {
     "base_uri": "https://localhost:8080/",
     "height": 34
    },
    "colab_type": "code",
    "id": "vsHXb1l0M5ik",
    "outputId": "434e85a8-2a33-40b7-915b-fc98bbdc788b"
   },
   "outputs": [
    {
     "data": {
      "text/plain": [
       "20.08538604657625"
      ]
     },
     "execution_count": 12,
     "metadata": {},
     "output_type": "execute_result"
    }
   ],
   "source": [
    "np.std(results.column(0))"
   ]
  },
  {
   "cell_type": "markdown",
   "metadata": {
    "colab_type": "text",
    "id": "Sp3XAMB9M5in"
   },
   "source": [
    "**Summary.** The net gain in 400 bets is the sum of the 400 amounts won on each individual bet. The probability distribution of that sum is approximately normal, with an average and an SD that we can approximate."
   ]
  },
  {
   "cell_type": "markdown",
   "metadata": {
    "colab_type": "text",
    "id": "2ligbpkVM5io"
   },
   "source": [
    "### Average Flight Delay ###\n",
    "The table `united` contains data on departure delays of 13,825 United Airlines domestic flights out of San Francisco airport in the summer of 2015. As we have seen before, the distribution of delays has a long right-hand tail."
   ]
  },
  {
   "cell_type": "code",
   "execution_count": 13,
   "metadata": {
    "colab": {},
    "colab_type": "code",
    "collapsed": true,
    "id": "RWhH24M4M5ip"
   },
   "outputs": [],
   "source": [
    "#united = Table.read_table(path_data + 'united_summer2015.csv')\n",
    "united = Table.read_table('DataFiles/united_summer2015.csv')"
   ]
  },
  {
   "cell_type": "code",
   "execution_count": 14,
   "metadata": {
    "colab": {},
    "colab_type": "code",
    "id": "aaZkET0IM5ir",
    "outputId": "00c26966-3221-472f-9262-06f60dbf7b5d"
   },
   "outputs": [
    {
     "data": {
      "image/png": "[encoded data removed]",
      "text/plain": [
       "<matplotlib.figure.Figure at 0x2a95090c400>"
      ]
     },
     "metadata": {},
     "output_type": "display_data"
    }
   ],
   "source": [
    "united.select('Delay').hist(bins=np.arange(-20, 300, 10))"
   ]
  },
  {
   "cell_type": "markdown",
   "metadata": {
    "colab_type": "text",
    "id": "jH7XhOrwM5it"
   },
   "source": [
    "The mean delay was about 16.6 minutes and the SD was about 39.5 minutes. Notice how large the SD is, compared to the mean. Those large deviations on the right have an effect, even though they are a very small proportion of the data."
   ]
  },
  {
   "cell_type": "code",
   "execution_count": 15,
   "metadata": {
    "colab": {},
    "colab_type": "code",
    "id": "j5YtWTioM5it",
    "outputId": "c9a7fff9-3a96-4489-d32d-9857380481e8"
   },
   "outputs": [
    {
     "data": {
      "text/plain": [
       "(16.658155515370705, 39.480199851609314)"
      ]
     },
     "execution_count": 15,
     "metadata": {},
     "output_type": "execute_result"
    }
   ],
   "source": [
    "mean_delay = np.mean(united.column('Delay'))\n",
    "sd_delay = np.std(united.column('Delay'))\n",
    "\n",
    "mean_delay, sd_delay"
   ]
  },
  {
   "cell_type": "markdown",
   "metadata": {
    "colab_type": "text",
    "id": "MEUgycX3M5iw"
   },
   "source": [
    "Now suppose we sampled 400 delays at random with replacement. You could sample without replacement if you like, but the results would be very similar to with-replacement sampling. If you sample a few hundred out of 13,825 without replacement, you hardly change the population each time you pull out a value.\n",
    "\n",
    "In the sample, what could the average delay be? We expect it to be around 16 or 17, because that's the population average; but it is likely to be somewhat off. Let's see what we get by sampling. We'll work with the table `delay` that only contains the column of delays."
   ]
  },
  {
   "cell_type": "code",
   "execution_count": 16,
   "metadata": {
    "colab": {},
    "colab_type": "code",
    "collapsed": true,
    "id": "B3-OndqjM5iw"
   },
   "outputs": [],
   "source": [
    "delay = united.select('Delay')"
   ]
  },
  {
   "cell_type": "code",
   "execution_count": 17,
   "metadata": {
    "colab": {},
    "colab_type": "code",
    "id": "Tl3dCQpLM5i1",
    "outputId": "479899eb-b1ad-41fe-9d45-b26949d03c9f"
   },
   "outputs": [
    {
     "data": {
      "text/plain": [
       "16.485"
      ]
     },
     "execution_count": 17,
     "metadata": {},
     "output_type": "execute_result"
    }
   ],
   "source": [
    "np.mean(delay.sample(400).column('Delay'))"
   ]
  },
  {
   "cell_type": "markdown",
   "metadata": {
    "colab_type": "text",
    "id": "ioPEH6p9M5i5"
   },
   "source": [
    "The sample average varies according to how the sample comes out, so we will simulate the sampling process repeatedly and draw the empirical histogram of the sample average. That will be an approximation to the probability histogram of the sample average."
   ]
  },
  {
   "cell_type": "code",
   "execution_count": 18,
   "metadata": {
    "colab": {},
    "colab_type": "code",
    "collapsed": true,
    "id": "9rR3hmRoM5i6"
   },
   "outputs": [],
   "source": [
    "sample_size = 400\n",
    "repetitions = 10000\n",
    "\n",
    "means = make_array()\n",
    "\n",
    "for i in np.arange(repetitions):\n",
    "    sample = delay.sample(sample_size)\n",
    "    new_mean = np.mean(sample.column('Delay'))\n",
    "    means = np.append(means, new_mean)\n",
    "\n",
    "results = Table().with_column(\n",
    "    'Sample Mean', means\n",
    ")"
   ]
  },
  {
   "cell_type": "code",
   "execution_count": 19,
   "metadata": {
    "colab": {},
    "colab_type": "code",
    "id": "7unupUmxM5i7",
    "outputId": "33a63ecc-7b3d-420a-adb6-f05b47da23ea"
   },
   "outputs": [
    {
     "data": {
      "image/png": "[encoded data removed]",
      "text/plain": [
       "<matplotlib.figure.Figure at 0x2a950938c18>"
      ]
     },
     "metadata": {},
     "output_type": "display_data"
    }
   ],
   "source": [
    "results.hist(bins=np.arange(10, 25, 0.5))"
   ]
  },
  {
   "cell_type": "markdown",
   "metadata": {
    "colab_type": "text",
    "id": "VXBIEUwcM5i9"
   },
   "source": [
    "Once again, we see a rough bell shape, even though we are drawing from a very skewed distribution. The bell is centered somewhere between 16 ad 17, as we expect."
   ]
  },
  {
   "cell_type": "markdown",
   "metadata": {
    "colab_type": "text",
    "id": "mnIfRaMIM5i-"
   },
   "source": [
    "### Central Limit Theorem ###\n",
    "\n",
    "The reason why the bell shape appears in such settings is a remarkable result of probability theory called the **Central Limit Theorem**. \n",
    "\n",
    "**The Central Limit Theorem says that the probability distribution of the sum or average of a large random sample drawn with replacement will be roughly normal, *regardless of the distribution of the population from which the sample is drawn*.**\n",
    "\n",
    "As we noted when we were studying Chebychev's bounds, results that can be applied to random samples *regardless of the distribution of the population* are very powerful, because in data science we rarely know the distribution of the population.\n",
    "\n",
    "The Central Limit Theorem makes it possible to make inferences with very little knowledge about the population, provided we have a large random sample. That is why it is central to the field of statistical inference."
   ]
  },
  {
   "cell_type": "markdown",
   "metadata": {
    "colab_type": "text",
    "id": "IDi2E5t9M5i-"
   },
   "source": [
    "### Proportion of Purple Flowers ###\n",
    "Recall Mendel's probability model for the colors of the flowers of a species of pea plant. The model says that the flower colors of the plants are like draws made at random with replacement from {Purple, Purple, Purple, White}.\n",
    "\n",
    "In a large sample of plants, about what proportion will have purple flowers? We would expect the answer to be about 0.75, the proportion purple in the model. And, because proportions are means, the Central Limit Theorem says that the distribution of the sample proportion of purple plants is roughly normal.\n",
    "\n",
    "We can confirm this by simulation. Let's simulate the proportion of purple-flowered plants in a sample of 200 plants."
   ]
  },
  {
   "cell_type": "code",
   "execution_count": 20,
   "metadata": {
    "colab": {},
    "colab_type": "code",
    "id": "UkMyztQnM5jA",
    "outputId": "cd87ec5d-b5c2-4249-9e3c-7cb58a570ec6"
   },
   "outputs": [
    {
     "data": {
      "text/html": [
       "<table border=\"1\" class=\"dataframe\">\n",
       "    <thead>\n",
       "        <tr>\n",
       "            <th>Color</th>\n",
       "        </tr>\n",
       "    </thead>\n",
       "    <tbody>\n",
       "        <tr>\n",
       "            <td>Purple</td>\n",
       "        </tr>\n",
       "        <tr>\n",
       "            <td>Purple</td>\n",
       "        </tr>\n",
       "        <tr>\n",
       "            <td>Purple</td>\n",
       "        </tr>\n",
       "        <tr>\n",
       "            <td>White </td>\n",
       "        </tr>\n",
       "    </tbody>\n",
       "</table>"
      ],
      "text/plain": [
       "Color\n",
       "Purple\n",
       "Purple\n",
       "Purple\n",
       "White"
      ]
     },
     "execution_count": 20,
     "metadata": {},
     "output_type": "execute_result"
    }
   ],
   "source": [
    "colors = make_array('Purple', 'Purple', 'Purple', 'White')\n",
    "\n",
    "model = Table().with_column('Color', colors)\n",
    "\n",
    "model"
   ]
  },
  {
   "cell_type": "code",
   "execution_count": 21,
   "metadata": {},
   "outputs": [
    {
     "name": "stdout",
     "output_type": "stream",
     "text": [
      "Sample of 10 flowers = Color\n",
      "Purple\n",
      "Purple\n",
      "White\n",
      "White\n",
      "Purple\n",
      "Purple\n",
      "Purple\n",
      "Purple\n",
      "White\n",
      "Purple\n",
      "Total purple flowers = 7\n",
      "Proportion =  0.7\n"
     ]
    }
   ],
   "source": [
    "num_plants = 10\n",
    "sample = model.sample(num_plants)\n",
    "print('Sample of 10 flowers =',sample)\n",
    "\n",
    "purple_count = np.count_nonzero(sample.column('Color') == 'Purple')\n",
    "print('Total purple flowers =',purple_count)\n",
    "\n",
    "prop = purple_count/num_plants\n",
    "print('Proportion = ',prop)"
   ]
  },
  {
   "cell_type": "code",
   "execution_count": 22,
   "metadata": {
    "colab": {},
    "colab_type": "code",
    "id": "D_8IxOj6M5jC"
   },
   "outputs": [
    {
     "name": "stdout",
     "output_type": "stream",
     "text": [
      "Sample Mean\n",
      "15.1525\n",
      "18.6975\n",
      "17.0175\n",
      "15.1675\n",
      "18.8075\n",
      "16.375\n",
      "19.54\n",
      "16.82\n",
      "19.165\n",
      "15.575\n",
      "... (9990 rows omitted)\n"
     ]
    }
   ],
   "source": [
    "props = make_array()\n",
    "\n",
    "num_plants = 200\n",
    "repetitions = 10000\n",
    "\n",
    "for i in np.arange(repetitions):\n",
    "    sample = model.sample(num_plants)\n",
    "    new_prop = np.count_nonzero(sample.column('Color') == 'Purple')/num_plants\n",
    "    props = np.append(props, new_prop)\n",
    "    \n",
    "\n",
    "print(results)\n",
    "results = Table().with_column('Sample Proportion: 200', props)"
   ]
  },
  {
   "cell_type": "code",
   "execution_count": 23,
   "metadata": {
    "colab": {},
    "colab_type": "code",
    "id": "svoe1-aGM5jE",
    "outputId": "23c4fabf-0231-4228-f956-e7a33cbca708"
   },
   "outputs": [
    {
     "data": {
      "image/png": "[encoded data removed]",
      "text/plain": [
       "<matplotlib.figure.Figure at 0x2a9509b24a8>"
      ]
     },
     "metadata": {},
     "output_type": "display_data"
    }
   ],
   "source": [
    "results.hist(bins=np.arange(0.65, 0.85, 0.01))"
   ]
  },
  {
   "cell_type": "markdown",
   "metadata": {
    "colab_type": "text",
    "id": "RoXNAyuRM5jG"
   },
   "source": [
    "There's that normal curve again, as predicted by the Central Limit Theorem, centered at around 0.75 just as you would expect.\n",
    "\n",
    "How would this distribution change if we increased the sample size? Let's run the code again with a sample size of 800, and collect the results of simulations in the same table in which we collected simulations based on a sample size of 200. We will keep the number of `repetitions` the same as before so that the two columns have the same length."
   ]
  },
  {
   "cell_type": "code",
   "execution_count": 24,
   "metadata": {
    "colab": {},
    "colab_type": "code",
    "collapsed": true,
    "id": "wN1lNzwUM5jG"
   },
   "outputs": [],
   "source": [
    "props2 = make_array()\n",
    "\n",
    "num_plants = 800\n",
    "\n",
    "for i in np.arange(repetitions):\n",
    "    sample = model.sample(num_plants)\n",
    "    new_prop = np.count_nonzero(sample.column('Color') == 'Purple')/num_plants\n",
    "    props2 = np.append(props2, new_prop)\n",
    "    \n",
    "results = results.with_column('Sample Proportion: 800', props2)"
   ]
  },
  {
   "cell_type": "code",
   "execution_count": 25,
   "metadata": {
    "colab": {},
    "colab_type": "code",
    "id": "WMha5jUZM5jI",
    "outputId": "037eb1b1-7032-4c83-9f6d-014d4f1999b0"
   },
   "outputs": [
    {
     "name": "stdout",
     "output_type": "stream",
     "text": [
      "Sample Proportion: 200 | Sample Proportion: 800\n",
      "0.735                  | 0.72125\n",
      "0.755                  | 0.755\n",
      "0.78                   | 0.76125\n",
      "0.795                  | 0.75125\n",
      "0.7                    | 0.75\n",
      "0.785                  | 0.74875\n",
      "0.795                  | 0.7325\n",
      "0.74                   | 0.74\n",
      "0.8                    | 0.74125\n",
      "0.795                  | 0.74625\n",
      "... (9990 rows omitted)\n"
     ]
    },
    {
     "data": {
      "image/png": "[encoded data removed]",
      "text/plain": [
       "<matplotlib.figure.Figure at 0x2a950a674a8>"
      ]
     },
     "metadata": {},
     "output_type": "display_data"
    }
   ],
   "source": [
    "print(results)\n",
    "results.hist(bins=np.arange(0.65, 0.85, 0.01))"
   ]
  },
  {
   "cell_type": "markdown",
   "metadata": {
    "colab_type": "text",
    "id": "WUB2kLAuM5jK"
   },
   "source": [
    "Both distributions are approximately normal but one is narrower than the other. The proportions based on a sample size of 800 are more tightly clustered around 0.75 than those from a sample size of 200. Increasing the sample size has decreased the variability in the sample proportion.\n",
    "\n",
    "This should not be surprising.  We have leaned many times on the intuition that a larger sample size generally reduces the variability of a statistic.  However, in the case of a sample average, we can *quantify* the relationship between sample size and variability.\n",
    "\n",
    "Exactly how does the sample size affect the variability of a sample average or proportion? That is the question we will examine in the next section."
   ]
  },
  {
   "cell_type": "markdown",
   "metadata": {
    "colab_type": "text",
    "id": "7-x0aLijNQYi"
   },
   "source": [
    "# Unit 5: Variability of the Sample Mean"
   ]
  },
  {
   "cell_type": "code",
   "execution_count": 26,
   "metadata": {
    "colab": {},
    "colab_type": "code",
    "collapsed": true,
    "id": "6357avnP-DSZ",
    "tags": [
     "remove_input"
    ]
   },
   "outputs": [],
   "source": [
    "from datascience import *\n",
    "import numpy as np\n",
    "path_data = 'https://gitlab.com/tae-public/data/raw/master/cs61/data8assets/textbook/chapters/'\n",
    "%matplotlib inline\n",
    "import matplotlib.pyplot as plots\n",
    "plots.style.use('fivethirtyeight')"
   ]
  },
  {
   "cell_type": "markdown",
   "metadata": {
    "colab_type": "text",
    "id": "Zpo9O5m1-DSe"
   },
   "source": [
    "### The Variability of the Sample Mean ###\n",
    "By the Central Limit Theorem, the probability distribution of the mean of a large random sample is roughly normal. The bell curve is centered at the population mean. Some of the sample means are higher, and some lower, but the deviations from the population mean are roughly symmetric on either side, as we have seen repeatedly. Formally, probability theory shows that the sample mean is an *unbiased* estimate of the population mean.\n",
    "\n",
    "In our simulations, we also noticed that the means of larger samples tend to be more tightly clustered around the population mean than means of smaller samples. In this section, we will quantify the variability of the sample mean and develop a relation between **the variability and the sample size**."
   ]
  },
  {
   "cell_type": "markdown",
   "metadata": {
    "colab_type": "text",
    "id": "zSQaBN-n-DSf"
   },
   "source": [
    "Let's start with our table of flight delays. The mean delay is about 16.7 minutes, and the distribution of delays is skewed to the right."
   ]
  },
  {
   "cell_type": "code",
   "execution_count": 27,
   "metadata": {
    "colab": {
     "base_uri": "https://localhost:8080/",
     "height": 50
    },
    "colab_type": "code",
    "collapsed": true,
    "id": "ZturBjMA-DSg",
    "outputId": "01af09f8-b2cc-4a33-8faf-9da1aef08286"
   },
   "outputs": [],
   "source": [
    "#united = Table.read_table(path_data + 'united_summer2015.csv')\n",
    "united = Table.read_table('DataFiles/united_summer2015.csv')\n",
    "\n",
    "delay = united.select('Delay')"
   ]
  },
  {
   "cell_type": "code",
   "execution_count": 28,
   "metadata": {
    "colab": {
     "base_uri": "https://localhost:8080/",
     "height": 34
    },
    "colab_type": "code",
    "id": "i6xXDhyo-DSk",
    "outputId": "6505d209-92fe-4eee-d864-5a8516693128"
   },
   "outputs": [
    {
     "data": {
      "text/plain": [
       "16.658155515370705"
      ]
     },
     "execution_count": 28,
     "metadata": {},
     "output_type": "execute_result"
    }
   ],
   "source": [
    "pop_mean = np.mean(delay.column('Delay'))\n",
    "pop_mean"
   ]
  },
  {
   "cell_type": "code",
   "execution_count": 29,
   "metadata": {
    "colab": {
     "base_uri": "https://localhost:8080/",
     "height": 306
    },
    "colab_type": "code",
    "id": "JG-vVIBB-DSp",
    "outputId": "017ac649-6ff1-45f0-f86b-b6fcf942d64b",
    "tags": [
     "remove_input"
    ]
   },
   "outputs": [
    {
     "data": {
      "image/png": "[encoded data removed]",
      "text/plain": [
       "<matplotlib.figure.Figure at 0x2a950b3ba58>"
      ]
     },
     "metadata": {},
     "output_type": "display_data"
    }
   ],
   "source": [
    "delay.hist(bins=np.arange(-20, 300, 10))\n",
    "plots.scatter(pop_mean, -0.0008, marker='^', color='darkblue', s=60)\n",
    "plots.ylim(-0.004, 0.04);"
   ]
  },
  {
   "cell_type": "markdown",
   "metadata": {
    "colab_type": "text",
    "id": "Rw8BGpY1-DSw"
   },
   "source": [
    "Now let's take random samples and look at the probability distribution of the sample mean. As usual, we will use simulation to get an empirical approximation to this distribution.\n",
    "\n",
    "We will define a function `simulate_sample_mean` to do this, because we are going to vary the sample size later. The arguments are the name of the table, the label of the column containing the variable, the sample size, and the number of simulations."
   ]
  },
  {
   "cell_type": "code",
   "execution_count": 30,
   "metadata": {
    "colab": {},
    "colab_type": "code",
    "collapsed": true,
    "id": "UZn_inm3-DSx"
   },
   "outputs": [],
   "source": [
    "\"\"\"Empirical distribution of random sample means\"\"\"\n",
    "\n",
    "def simulate_sample_mean(table, label, sample_size, repetitions):\n",
    "    \n",
    "    means = make_array()\n",
    "\n",
    "    for i in range(repetitions):\n",
    "        new_sample = table.sample(sample_size)\n",
    "        new_sample_mean = np.mean(new_sample.column(label))\n",
    "        means = np.append(means, new_sample_mean)\n",
    "\n",
    "    sample_means = Table().with_column('Sample Means', means)\n",
    "    \n",
    "    # Display empirical histogram and print all relevant quantities\n",
    "    sample_means.hist(bins=20)\n",
    "    plots.xlabel('Sample Means')\n",
    "    plots.title('Sample Size ' + str(sample_size))\n",
    "    print(\"Sample size: \", sample_size)\n",
    "    print(\"Population mean:\", np.mean(table.column(label)))\n",
    "    print(\"Average of sample means: \", np.mean(means))\n",
    "    print(\"Population SD:\", np.std(table.column(label)))\n",
    "    print(\"SD of sample means:\", np.std(means))"
   ]
  },
  {
   "cell_type": "markdown",
   "metadata": {
    "colab_type": "text",
    "id": "bctN8Xvd-DSz"
   },
   "source": [
    "Let us simulate the mean of a random sample of 100 delays, then of 400 delays, and finally of 625 delays. We will perform 10,000 repetitions of each of these process. The `xlim` and `ylim` lines set the axes consistently in all the plots for ease of comparison. You can just ignore those two lines of code in each cell."
   ]
  },
  {
   "cell_type": "code",
   "execution_count": 31,
   "metadata": {
    "colab": {
     "base_uri": "https://localhost:8080/",
     "height": 406
    },
    "colab_type": "code",
    "id": "9-ard33x-DS0",
    "outputId": "32018394-d0b3-4b2e-e8e5-1c8622b9f7b8"
   },
   "outputs": [
    {
     "name": "stdout",
     "output_type": "stream",
     "text": [
      "Sample size:  100\n",
      "Population mean: 16.658155515370705\n",
      "Average of sample means:  16.673269\n",
      "Population SD: 39.480199851609314\n",
      "SD of sample means: 3.9777485797419376\n"
     ]
    },
    {
     "data": {
      "image/png": "[encoded data removed]",
      "text/plain": [
       "<matplotlib.figure.Figure at 0x2a950d6ce10>"
      ]
     },
     "metadata": {},
     "output_type": "display_data"
    }
   ],
   "source": [
    "simulate_sample_mean(delay, 'Delay', 100, 10000)\n",
    "plots.xlim(5, 35)\n",
    "plots.ylim(0, 0.25);"
   ]
  },
  {
   "cell_type": "code",
   "execution_count": 32,
   "metadata": {
    "colab": {
     "base_uri": "https://localhost:8080/",
     "height": 406
    },
    "colab_type": "code",
    "id": "j7KAqBAv-DS3",
    "outputId": "cb363321-4f31-4afa-8eb7-10ff796b1640"
   },
   "outputs": [
    {
     "name": "stdout",
     "output_type": "stream",
     "text": [
      "Sample size:  400\n",
      "Population mean: 16.658155515370705\n",
      "Average of sample means:  16.66965825\n",
      "Population SD: 39.480199851609314\n",
      "SD of sample means: 1.9952155657552237\n"
     ]
    },
    {
     "data": {
      "image/png": "[encoded data removed]",
      "text/plain": [
       "<matplotlib.figure.Figure at 0x2a950e12a90>"
      ]
     },
     "metadata": {},
     "output_type": "display_data"
    }
   ],
   "source": [
    "simulate_sample_mean(delay, 'Delay', 400, 10000)\n",
    "plots.xlim(5, 35)\n",
    "plots.ylim(0, 0.25);"
   ]
  },
  {
   "cell_type": "code",
   "execution_count": 33,
   "metadata": {
    "colab": {
     "base_uri": "https://localhost:8080/",
     "height": 406
    },
    "colab_type": "code",
    "id": "IlgNvnT1-DS5",
    "outputId": "cb69c68a-cd1b-44e0-e675-a000a56281e8"
   },
   "outputs": [
    {
     "name": "stdout",
     "output_type": "stream",
     "text": [
      "Sample size:  625\n",
      "Population mean: 16.658155515370705\n",
      "Average of sample means:  16.68626816\n",
      "Population SD: 39.480199851609314\n",
      "SD of sample means: 1.5687196123495792\n"
     ]
    },
    {
     "data": {
      "image/png": "[encoded data removed]",
      "text/plain": [
       "<matplotlib.figure.Figure at 0x2a950d8d588>"
      ]
     },
     "metadata": {},
     "output_type": "display_data"
    }
   ],
   "source": [
    "simulate_sample_mean(delay, 'Delay', 625, 10000)\n",
    "plots.xlim(5, 35)\n",
    "plots.ylim(0, 0.25);"
   ]
  },
  {
   "cell_type": "markdown",
   "metadata": {
    "colab_type": "text",
    "id": "90FrAKna-DS7"
   },
   "source": [
    "You can see the Central Limit Theorem in action – the histograms of the sample means are roughly normal, even though the histogram of the delays themselves is far from normal.\n",
    "\n",
    "You can also see that each of the three histograms of the sample means is centered very close to the population mean. In each case, the \"average of sample means\" is very close to 16.66 minutes, the population mean. Both values are provided in the printout above each histogram. As expected, the sample mean is an unbiased estimate of the population mean."
   ]
  },
  {
   "cell_type": "markdown",
   "metadata": {
    "colab_type": "text",
    "id": "QvjK1PRj-DS8"
   },
   "source": [
    "### The SD of All the Sample Means ###\n",
    "\n",
    "You can also see that the histograms get narrower, and hence taller, as the sample size increases. We have seen that before, but now we will pay closer attention to the measure of spread.\n",
    "\n",
    "The SD of the population of all delays is about 40 minutes."
   ]
  },
  {
   "cell_type": "code",
   "execution_count": 34,
   "metadata": {
    "colab": {
     "base_uri": "https://localhost:8080/",
     "height": 34
    },
    "colab_type": "code",
    "id": "cML7aB0i-DS9",
    "outputId": "3e237499-bc34-4bcf-d362-b21c13015690"
   },
   "outputs": [
    {
     "data": {
      "text/plain": [
       "39.480199851609314"
      ]
     },
     "execution_count": 34,
     "metadata": {},
     "output_type": "execute_result"
    }
   ],
   "source": [
    "pop_sd = np.std(delay.column('Delay'))\n",
    "pop_sd"
   ]
  },
  {
   "cell_type": "markdown",
   "metadata": {
    "colab_type": "text",
    "id": "6zsuX0pb-DTA"
   },
   "source": [
    "Take a look at the SDs in the sample mean histograms above. In all three of them, the SD of the population of delays is about 40 minutes, because all the samples were taken from the same population.\n",
    "\n",
    "Now look at the SD of all 10,000 sample means, when the sample size is 100. That SD is about one-tenth of the population SD. When the sample size is 400, the SD of all the sample means is about one-twentieth of the population SD. When the sample size is 625, the SD of the sample means is about one-twentyfifth of the population SD.\n",
    "\n",
    "It seems like a good idea to compare the SD of the empirical distribution of the sample means to the quantity \"population SD divided by the square root of the sample size.\""
   ]
  },
  {
   "cell_type": "markdown",
   "metadata": {
    "colab_type": "text",
    "id": "YdpCYJd4-DTB"
   },
   "source": [
    "Here are the numerical values. For each sample size in the first column, 10,000 random samples of that size were drawn, and the 10,000 sample means were calculated. The second column contains the SD of those 10,000 sample means. The third column contains the result of the calculation \"population SD divided by the square root of the sample size.\"\n",
    "\n",
    "The cell takes a while to run, as it's a large simulation. But you'll soon see that it's worth the wait."
   ]
  },
  {
   "cell_type": "code",
   "execution_count": 35,
   "metadata": {
    "colab": {},
    "colab_type": "code",
    "collapsed": true,
    "id": "v5GRo4hC-DTC"
   },
   "outputs": [],
   "source": [
    "repetitions = 10000\n",
    "sample_sizes = np.arange(25, 626, 25)\n",
    "\n",
    "sd_means = make_array()\n",
    "\n",
    "for n in sample_sizes:\n",
    "    means = make_array()\n",
    "    for i in np.arange(repetitions):\n",
    "        means = np.append(means, np.mean(delay.sample(n).column('Delay')))\n",
    "    sd_means = np.append(sd_means, np.std(means))\n",
    "\n",
    "sd_comparison = Table().with_columns(\n",
    "    'Sample Size n', sample_sizes,\n",
    "    'SD of 10,000 Sample Means', sd_means,\n",
    "    'pop_sd/sqrt(n)', pop_sd/np.sqrt(sample_sizes)\n",
    ")"
   ]
  },
  {
   "cell_type": "code",
   "execution_count": 36,
   "metadata": {
    "colab": {},
    "colab_type": "code",
    "id": "uRixyunH-DTD",
    "outputId": "7c7d2610-cc28-4aa7-b543-e5c31880ca20"
   },
   "outputs": [
    {
     "data": {
      "text/html": [
       "<table border=\"1\" class=\"dataframe\">\n",
       "    <thead>\n",
       "        <tr>\n",
       "            <th>Sample Size n</th> <th>SD of 10,000 Sample Means</th> <th>pop_sd/sqrt(n)</th>\n",
       "        </tr>\n",
       "    </thead>\n",
       "    <tbody>\n",
       "        <tr>\n",
       "            <td>25           </td> <td>7.81622                  </td> <td>7.89604       </td>\n",
       "        </tr>\n",
       "        <tr>\n",
       "            <td>50           </td> <td>5.5641                   </td> <td>5.58334       </td>\n",
       "        </tr>\n",
       "        <tr>\n",
       "            <td>75           </td> <td>4.56035                  </td> <td>4.55878       </td>\n",
       "        </tr>\n",
       "        <tr>\n",
       "            <td>100          </td> <td>3.94085                  </td> <td>3.94802       </td>\n",
       "        </tr>\n",
       "        <tr>\n",
       "            <td>125          </td> <td>3.49105                  </td> <td>3.53122       </td>\n",
       "        </tr>\n",
       "        <tr>\n",
       "            <td>150          </td> <td>3.20294                  </td> <td>3.22354       </td>\n",
       "        </tr>\n",
       "        <tr>\n",
       "            <td>175          </td> <td>2.98569                  </td> <td>2.98442       </td>\n",
       "        </tr>\n",
       "        <tr>\n",
       "            <td>200          </td> <td>2.8071                   </td> <td>2.79167       </td>\n",
       "        </tr>\n",
       "        <tr>\n",
       "            <td>225          </td> <td>2.59005                  </td> <td>2.63201       </td>\n",
       "        </tr>\n",
       "        <tr>\n",
       "            <td>250          </td> <td>2.49459                  </td> <td>2.49695       </td>\n",
       "        </tr>\n",
       "    </tbody>\n",
       "</table>\n",
       "<p>... (15 rows omitted)</p>"
      ],
      "text/plain": [
       "Sample Size n | SD of 10,000 Sample Means | pop_sd/sqrt(n)\n",
       "25            | 7.81622                   | 7.89604\n",
       "50            | 5.5641                    | 5.58334\n",
       "75            | 4.56035                   | 4.55878\n",
       "100           | 3.94085                   | 3.94802\n",
       "125           | 3.49105                   | 3.53122\n",
       "150           | 3.20294                   | 3.22354\n",
       "175           | 2.98569                   | 2.98442\n",
       "200           | 2.8071                    | 2.79167\n",
       "225           | 2.59005                   | 2.63201\n",
       "250           | 2.49459                   | 2.49695\n",
       "... (15 rows omitted)"
      ]
     },
     "execution_count": 36,
     "metadata": {},
     "output_type": "execute_result"
    }
   ],
   "source": [
    "sd_comparison"
   ]
  },
  {
   "cell_type": "markdown",
   "metadata": {
    "colab_type": "text",
    "id": "dm4H-ZbF-DTG"
   },
   "source": [
    "The values in the second and third columns are very close. If we plot each of those columns with the sample size on the horizontal axis, the two graphs are essentially indistinguishable."
   ]
  },
  {
   "cell_type": "code",
   "execution_count": 37,
   "metadata": {
    "colab": {
     "base_uri": "https://localhost:8080/",
     "height": 304
    },
    "colab_type": "code",
    "id": "akVGDf3S-DTG",
    "outputId": "2e83a7e6-0573-479c-d26a-e37103bbaeb4"
   },
   "outputs": [
    {
     "data": {
      "image/png": "[encoded data removed]",
      "text/plain": [
       "<matplotlib.figure.Figure at 0x2a950debba8>"
      ]
     },
     "metadata": {},
     "output_type": "display_data"
    }
   ],
   "source": [
    "sd_comparison.plot('Sample Size n')"
   ]
  },
  {
   "cell_type": "markdown",
   "metadata": {
    "colab_type": "text",
    "id": "Or0IZIwE-DTJ"
   },
   "source": [
    "There really are two curves there. But they are so close to each other that it looks as though there is just one.\n",
    "\n",
    "What we are seeing is an instance of a general result. Remember that the graph above is based on 10,000 replications for each sample size. But there are many more than 10,000 samples of each size. The probability distribution of the sample mean is based on the means of *all possible samples* of a fixed size.\n",
    "\n",
    "**Fix a sample size.** If the samples are drawn at random with replacement from the population, then\n",
    "\n",
    "$$\n",
    "{\\mbox{SD of all possible sample means}} ~=~\n",
    "\\frac{\\mbox{Population SD}}{\\sqrt{\\mbox{sample size}}}\n",
    "$$\n",
    "\n",
    "This is the standard deviation of the averages of all the possible samples that could be drawn. **It measures roughly how far off the sample means are from the population mean.**"
   ]
  },
  {
   "cell_type": "markdown",
   "metadata": {
    "colab_type": "text",
    "id": "Mz4DCEr4-DTJ"
   },
   "source": [
    "### The Central Limit Theorem for the Sample Mean ###\n",
    "If you draw a large random sample with replacement from a population, then, regardless of the distribution of the population, the probability distribution of the sample mean is roughly normal, centered at the population mean, with an SD equal to the population SD divided by the square root of the sample size."
   ]
  },
  {
   "cell_type": "markdown",
   "metadata": {
    "colab_type": "text",
    "id": "r0mZXkph-DTK"
   },
   "source": [
    "### The Accuracy of the Sample Mean ###\n",
    "The SD of all possible sample means measures how variable the sample mean can be. As such, it is taken as a measure of the accuracy of the sample mean as an estimate of the population mean. The smaller the SD, the more accurate the estimate.\n",
    "\n",
    "The formula shows that:\n",
    "- The population size doesn't affect the accuracy of the sample mean. The population size doesn't appear anywhere in the formula.\n",
    "- The population SD is a constant; it's the same for every sample drawn from the population. The sample size can be varied. Because the sample size appears in the denominator, the variability of the sample mean *decreases* as the sample size increases, and hence the accuracy increases."
   ]
  },
  {
   "cell_type": "markdown",
   "metadata": {
    "colab_type": "text",
    "id": "91ripv0L-DTL"
   },
   "source": [
    "### The Square Root Law ###\n",
    "From the table of SD comparisons, you can see that the SD of the means of random samples of 25 flight delays is about 8 minutes. If you multiply the sample size by 4, you'll get samples of size 100. The SD of the means of all of those samples is about 4 minutes. That's smaller than 8 minutes, but it's not 4 times as small; it's only 2 times as small. That's because the sample size in the denominator has a square root over it. The sample size increased by a factor of 4, but the SD went down by a factor of $2 = \\sqrt{4}$. In other words, the accuracy went up by a factor of $2 = \\sqrt{4}$.\n",
    "\n",
    "In general, when you multiply the sample size by a factor, the accuracy of the sample mean goes up by the square root of that factor.\n",
    "\n",
    "So to increase accuracy by a factor of 10, you have to multiply sample size by a factor of 100. Accuracy doesn't come cheap!"
   ]
  },
  {
   "cell_type": "markdown",
   "metadata": {
    "colab_type": "text",
    "id": "SMiYR78NNhmD"
   },
   "source": [
    "# Unit 6: Choosing a Sample Size"
   ]
  },
  {
   "cell_type": "code",
   "execution_count": 42,
   "metadata": {
    "colab": {},
    "colab_type": "code",
    "collapsed": true,
    "id": "NIPx3Z-a-d8m",
    "tags": [
     "remove_input"
    ]
   },
   "outputs": [],
   "source": [
    "from datascience import *\n",
    "import numpy as np\n",
    "path_data = 'https://gitlab.com/tae-public/data/raw/master/cs61/data8assets/textbook/chapters/'\n",
    "%matplotlib inline\n",
    "import matplotlib.pyplot as plots\n",
    "plots.style.use('fivethirtyeight')"
   ]
  },
  {
   "cell_type": "markdown",
   "metadata": {
    "colab_type": "text",
    "id": "STsETwxh-d8r"
   },
   "source": [
    "### Choosing a Sample Size ###\n",
    "Candidate A is contesting an election. A polling organization wants to estimate the proportion of voters who will vote for her. Let's suppose that they plan to take a simple random sample of voters, though in reality their method of sampling would be more complex. How can they decide how large their sample should be, to get a desired level of accuracy?\n",
    "\n",
    "We are now in a position to answer this question, after making a few assumptions:\n",
    "- The population of voters is very large and that therefore we can just as well assume that the random sample will be drawn with replacement.\n",
    "- The polling organization will make its estimate by constructing an approximate 95% confidence interval for the percent of voters who will vote for Candidate A.\n",
    "- The desired level of accuracy is that the width of the interval should be no more than 1%. That's pretty accurate! For example, the confidence interval (33.2%, 34%) would be fine but (33.2%, 35%) would not.\n",
    "\n",
    "We will work with the sample proportion of voters for Candidate A. Recall that a proportion is a mean, when the values in the population are only 0 (the type of individual you are not counting) or 1 (the type of individual you are counting)."
   ]
  },
  {
   "cell_type": "markdown",
   "metadata": {
    "colab_type": "text",
    "id": "esYzu_ed-d8s"
   },
   "source": [
    "### Width of Confidence Interval ###\n",
    "If we had a random sample, we could go about using the bootstrap to construct a confidence interval for the percent of voters for Candidate A. But we don't have a sample yet – we are trying to find out how big the sample has to be so that our confidence interval is as narrow as we want it to be.\n",
    "\n",
    "In situations like this, it helps to see what theory predicts.\n",
    "\n",
    "The Central Limit Theorem says that the probabilities for the sample proportion are roughly normally distributed, centered at the population proportion of 1's, with an SD equal to the SD of the population of 0's and 1's divided by the square root of the sample size.\n",
    "\n",
    "So the confidence interval will still be the \"middle 95%\" of a normal distribution, even though we can't pick off the ends as the 2.5th and 97.5th percentiles of bootstrapped proportions. \n",
    "\n",
    "Is there another way to find how wide the interval would be? Yes, because we know that for normally distributed variables, the interval \"center $\\pm$ 2 SDs\" contains 95% of the data.\n",
    "\n",
    "The confidence interval will stretch for 2 SDs of the sample proportion, on either side of the center. So the width of the interval will be 4 SDs of the sample proportion.\n",
    "\n",
    "We are willing to tolerate a width of 1% = 0.01. So, using the formula developed in the last section, \n",
    "\n",
    "$$\n",
    "4 \\times \\frac{\\mbox{SD of the 0-1 population}}{\\sqrt{\\mbox{sample size}}}\n",
    "~ \\le ~ 0.01\n",
    "$$\n",
    "\n",
    "So\n",
    "\n",
    "$$\n",
    "\\sqrt{\\mbox{sample size}} ~ \\ge ~ 4 \\times \\frac{\\mbox{SD of the 0-1 population}}{0.01}\n",
    "$$"
   ]
  },
  {
   "cell_type": "markdown",
   "metadata": {
    "colab_type": "text",
    "id": "av0puWrx-d8s"
   },
   "source": [
    "### The SD of a collection of 0's and 1's ###\n",
    "If we knew the SD of the population, we'd be done. We could calculate the square root of the sample size, and then take the square to get the sample size. But we don't know the SD of the population. The population consists of 1 for each voter for Candidate A, and 0 for all other voters, and *we don't know what proportion of each kind there are.* That's what we're trying to estimate.\n",
    "\n",
    "So are we stuck? No, because we can *bound* the SD of the population. Here are histograms of two such distributions, one for an equal proportion of 1's and 0's, and one with 90% 1's and 10% 0's. Which one has the bigger SD? "
   ]
  },
  {
   "cell_type": "code",
   "execution_count": 43,
   "metadata": {
    "colab": {
     "base_uri": "https://localhost:8080/",
     "height": 287
    },
    "colab_type": "code",
    "id": "_l4ffaPf-d8t",
    "outputId": "388b9b97-5f06-4a42-d288-fb8921eae5e1"
   },
   "outputs": [
    {
     "data": {
      "image/png": "[encoded data removed]",
      "text/plain": [
       "<matplotlib.figure.Figure at 0x2a952029860>"
      ]
     },
     "metadata": {},
     "output_type": "display_data"
    }
   ],
   "source": [
    "# HIDDEN \n",
    "pop_50 = make_array(1, 1, 1, 1, 1, 0, 0, 0, 0, 0)\n",
    "pop_90 = make_array(1, 1, 1, 1, 1, 1, 1, 1, 1, 0)\n",
    "\n",
    "coins = Table().with_columns(\n",
    "   \"Proportion of 1's: 0.5\", pop_50,\n",
    "   \"Proportion of 1's: 0.9\", pop_90,\n",
    ")\n",
    "coins.hist(bins=np.arange(-0.5, 1.6, 1))\n",
    "plots.scatter(0.5, -0.02, marker='^', color='darkblue', s=60)\n",
    "plots.scatter(0.9, -0.02, marker='^', color='gold', s=60)\n",
    "plots.ylim(-0.05, 1);"
   ]
  },
  {
   "cell_type": "markdown",
   "metadata": {
    "colab_type": "text",
    "id": "zh1kfhqO-d8x"
   },
   "source": [
    "Remember that the possible values in the population are only 0 and 1.\n",
    "\n",
    "The blue histogram (50% 1's and 50% 0's) has more spread than the gold. The mean is 0.5. Half the deviations from mean are equal to 0.5 and the other half equal to -0.5, so the SD is 0.5.\n",
    "\n",
    "In the gold histogram, all of the area is being squished up around 1, leading to less spread. 90% of the deviations are small: 0.1. The other 10% are -0.9 which is large, but overall the spread is smaller than in the blue histogram.\n",
    "\n",
    "The same observation would hold if we varied the proportion of 1's or let the proportion of 0's be larger than the proportion of 1's. Let's check this by calculating the SDs of populations of 10 elements that only consist of 0's and 1's, in varying proportions. The function `np.ones` is useful for this. It takes a positive integer as its argument and returns an array consisting of that many 1's."
   ]
  },
  {
   "cell_type": "code",
   "execution_count": 44,
   "metadata": {
    "colab": {
     "base_uri": "https://localhost:8080/",
     "height": 314
    },
    "colab_type": "code",
    "id": "QY-3pElA-d8y",
    "outputId": "4c25073a-4974-4919-9e12-370077084271"
   },
   "outputs": [
    {
     "data": {
      "text/html": [
       "<table border=\"1\" class=\"dataframe\">\n",
       "    <thead>\n",
       "        <tr>\n",
       "            <th>Population Proportion of 1's</th> <th>Population SD</th>\n",
       "        </tr>\n",
       "    </thead>\n",
       "    <tbody>\n",
       "        <tr>\n",
       "            <td>0.1                         </td> <td>0.3          </td>\n",
       "        </tr>\n",
       "        <tr>\n",
       "            <td>0.2                         </td> <td>0.4          </td>\n",
       "        </tr>\n",
       "        <tr>\n",
       "            <td>0.3                         </td> <td>0.458258     </td>\n",
       "        </tr>\n",
       "        <tr>\n",
       "            <td>0.4                         </td> <td>0.489898     </td>\n",
       "        </tr>\n",
       "        <tr>\n",
       "            <td>0.5                         </td> <td>0.5          </td>\n",
       "        </tr>\n",
       "        <tr>\n",
       "            <td>0.6                         </td> <td>0.489898     </td>\n",
       "        </tr>\n",
       "        <tr>\n",
       "            <td>0.7                         </td> <td>0.458258     </td>\n",
       "        </tr>\n",
       "        <tr>\n",
       "            <td>0.8                         </td> <td>0.4          </td>\n",
       "        </tr>\n",
       "        <tr>\n",
       "            <td>0.9                         </td> <td>0.3          </td>\n",
       "        </tr>\n",
       "    </tbody>\n",
       "</table>"
      ],
      "text/plain": [
       "Population Proportion of 1's | Population SD\n",
       "0.1                          | 0.3\n",
       "0.2                          | 0.4\n",
       "0.3                          | 0.458258\n",
       "0.4                          | 0.489898\n",
       "0.5                          | 0.5\n",
       "0.6                          | 0.489898\n",
       "0.7                          | 0.458258\n",
       "0.8                          | 0.4\n",
       "0.9                          | 0.3"
      ]
     },
     "execution_count": 44,
     "metadata": {},
     "output_type": "execute_result"
    }
   ],
   "source": [
    "sd = make_array()\n",
    "for i in np.arange(1, 10, 1):\n",
    "    # Create an array of i 1's and (10-i) 0's\n",
    "    population = np.append(np.ones(i), 1-np.ones(10-i))\n",
    "    sd = np.append(sd, np.std(population))\n",
    "    \n",
    "zero_one_sds = Table().with_columns(\n",
    "    \"Population Proportion of 1's\", np.arange(0.1, 1, 0.1),\n",
    "    \"Population SD\", sd\n",
    ")\n",
    "\n",
    "zero_one_sds"
   ]
  },
  {
   "cell_type": "markdown",
   "metadata": {
    "colab_type": "text",
    "id": "r8SSpI7w-d80"
   },
   "source": [
    "Not surprisingly, the SD of a population with 10% 1's and 90% 0's is the same as that of a population with 90% 1's and 10% 0's. That's because you switch the bars of one histogram to get the other; there is no change in spread.\n",
    "\n",
    "More importantly for our purposes, the SD increases as the proportion of 1's increases, until the proportion of 1's is 0.5; then it starts to decrease symmetrically."
   ]
  },
  {
   "cell_type": "code",
   "execution_count": 41,
   "metadata": {
    "colab": {
     "base_uri": "https://localhost:8080/",
     "height": 359
    },
    "colab_type": "code",
    "id": "PZ5t5OUA-d81",
    "outputId": "e89bcb57-b603-4e52-84f8-d6528a085c1a"
   },
   "outputs": [
    {
     "data": {
      "image/png": "[encoded data removed]",
      "text/plain": [
       "<matplotlib.figure.Figure at 0x2a950fab2e8>"
      ]
     },
     "metadata": {},
     "output_type": "display_data"
    }
   ],
   "source": [
    "zero_one_sds.scatter(\"Population Proportion of 1's\")"
   ]
  },
  {
   "cell_type": "markdown",
   "metadata": {
    "colab_type": "text",
    "id": "uHbnuO7v-d84"
   },
   "source": [
    "**Summary:** The SD of a population of 1's and 0's is at most 0.5. That's the value of the SD when 50% of the population is coded 1 and the other 50% are coded 0."
   ]
  },
  {
   "cell_type": "markdown",
   "metadata": {
    "colab_type": "text",
    "id": "U5qCTa-w-d85"
   },
   "source": [
    "### The Sample Size ###\n",
    "We know that \n",
    "$$\n",
    "\\sqrt{\\mbox{sample size}} ~ \\ge ~ 4 \\times \\frac{\\mbox{SD of the 0-1 population}}{0.01}\n",
    "$$\n",
    "and that the SD of the 0-1 population is at most 0.5, regardless of the proportion of 1's in the population. So it is safe to take\n",
    "\n",
    "$$\n",
    "\\sqrt{\\mbox{sample size}} ~ \\ge ~ 4 \\times \\frac{0.5}{0.01} ~=~ 200\n",
    "$$\n",
    "\n",
    "So the sample size should be at least $200^2 = 40,000$. That's an enormous sample! But that's what you need if you want to guarantee great accuracy with high confidence no matter what the population looks like."
   ]
  },
  {
   "cell_type": "code",
   "execution_count": null,
   "metadata": {
    "colab": {},
    "colab_type": "code",
    "collapsed": true,
    "id": "YwSGhTmi-d86"
   },
   "outputs": [],
   "source": []
  }
 ],
 "metadata": {
  "colab": {
   "collapsed_sections": [
    "mnIfRaMIM5i-",
    "IDi2E5t9M5i-",
    "Mz4DCEr4-DTJ",
    "r0mZXkph-DTK",
    "91ripv0L-DTL",
    "STsETwxh-d8r",
    "esYzu_ed-d8s"
   ],
   "name": "CS63 Meeting02.ipynb",
   "provenance": []
  },
  "kernelspec": {
   "display_name": "Python 3",
   "language": "python",
   "name": "python3"
  },
  "language_info": {
   "codemirror_mode": {
    "name": "ipython",
    "version": 3
   },
   "file_extension": ".py",
   "mimetype": "text/x-python",
   "name": "python",
   "nbconvert_exporter": "python",
   "pygments_lexer": "ipython3",
   "version": "3.6.3"
  }
 },
 "nbformat": 4,
 "nbformat_minor": 1
}
