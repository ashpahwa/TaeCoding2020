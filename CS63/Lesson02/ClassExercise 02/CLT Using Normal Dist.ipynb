{
 "cells": [
  {
   "cell_type": "code",
   "execution_count": 1,
   "metadata": {
    "collapsed": true
   },
   "outputs": [],
   "source": [
    "from datascience import *\n",
    "import numpy as np\n",
    "import matplotlib.pyplot as plots\n",
    "plots.style.use('fivethirtyeight')\n",
    "%matplotlib inline\n",
    "\n",
    "import random"
   ]
  },
  {
   "cell_type": "code",
   "execution_count": 2,
   "metadata": {},
   "outputs": [
    {
     "name": "stdout",
     "output_type": "stream",
     "text": [
      "0.16147235376464297\n",
      "0.48476130233695225\n",
      "0.9576479750955103\n",
      "0.5386559222642233\n",
      "0.6760350262359357\n",
      "0.3244789645543358\n",
      "0.09586003058820403\n",
      "0.5334346674021913\n",
      "0.0010554633750006204\n",
      "0.09012426551404773\n"
     ]
    }
   ],
   "source": [
    "# Generate 10 numbers between 0 and 1\n",
    "#\n",
    "for i in range(10):\n",
    "    print(random.random())"
   ]
  },
  {
   "cell_type": "code",
   "execution_count": 3,
   "metadata": {
    "collapsed": true
   },
   "outputs": [],
   "source": [
    "# Generate a random number between 3 and 7: [3,7)\n",
    "#\n",
    "\n",
    "# Since width is 4 (7-3 = 4), we multiply with 4\n",
    "# since the first number is 3, we add 3\n",
    "\n",
    "def my_random():\n",
    "    return 4*random.random() + 3"
   ]
  },
  {
   "cell_type": "code",
   "execution_count": 4,
   "metadata": {},
   "outputs": [
    {
     "name": "stdout",
     "output_type": "stream",
     "text": [
      "5.86790335934676\n",
      "3.316118395066134\n",
      "6.906555101690824\n",
      "5.981269886999625\n",
      "3.708274212536339\n",
      "6.992119428476521\n",
      "3.1109654777029143\n",
      "6.4696088785726245\n",
      "4.689334118221928\n",
      "4.773318882717884\n"
     ]
    }
   ],
   "source": [
    "# Generate a random number between 3 and 7: [3,7)\n",
    "#\n",
    "for i in range(10):\n",
    "    print(my_random())"
   ]
  },
  {
   "cell_type": "code",
   "execution_count": 5,
   "metadata": {},
   "outputs": [
    {
     "name": "stdout",
     "output_type": "stream",
     "text": [
      "4.105586155557206\n",
      "3.8225227243148283\n",
      "4.264774274730039\n",
      "5.952059961288593\n",
      "6.188106208011559\n",
      "6.722951739129266\n",
      "4.477880142157382\n",
      "5.48926257414276\n",
      "5.089782510444034\n",
      "4.83272350139632\n"
     ]
    }
   ],
   "source": [
    "# Generate a random number between 3 and 7: [3,7)\n",
    "#\n",
    "for i in range(10):\n",
    "    print(random.uniform(3,7))"
   ]
  },
  {
   "cell_type": "code",
   "execution_count": 6,
   "metadata": {},
   "outputs": [
    {
     "name": "stdout",
     "output_type": "stream",
     "text": [
      "-0.6606197824944721\n",
      "-1.2284324165781673\n",
      "0.992656538078821\n",
      "0.4019630038192859\n",
      "1.3105720419641573\n",
      "1.4798463617812738\n",
      "-1.1369439237625465\n",
      "-1.2363208021225354\n",
      "1.007023400021759\n",
      "-1.86775872723559\n"
     ]
    }
   ],
   "source": [
    "# Normal Distribution, mean(mu), standard deviation(sigma)\n",
    "#\n",
    "# Generate 10 random numbers from normal distribution with mu=0, sigma=1\n",
    "#\n",
    "for i in range(10):\n",
    "    print(random.normalvariate(0,1))"
   ]
  },
  {
   "cell_type": "code",
   "execution_count": 7,
   "metadata": {},
   "outputs": [
    {
     "name": "stdout",
     "output_type": "stream",
     "text": [
      "-12.286374060497815\n",
      "-3.3958326841254713\n",
      "14.30178362569841\n",
      "14.37081116372666\n",
      "4.119355076749823\n",
      "10.55250423910959\n",
      "6.536710107937105\n",
      "-5.094750365089835\n",
      "9.218331174327917\n",
      "-1.0332460362430742\n"
     ]
    }
   ],
   "source": [
    "# Generate 10 random numbers from normal distribution with mu=0, sigma=9\n",
    "#\n",
    "for i in range(10):\n",
    "    print(random.normalvariate(0,9))"
   ]
  },
  {
   "cell_type": "code",
   "execution_count": 8,
   "metadata": {},
   "outputs": [
    {
     "name": "stdout",
     "output_type": "stream",
     "text": [
      "0.00930347047667561\n",
      "-0.08555242500527305\n",
      "-0.1654154057024401\n",
      "-0.13188525061655218\n",
      "0.2422915663188294\n",
      "0.09178566857339791\n",
      "0.014328409745368823\n",
      "0.07016937461045163\n",
      "-0.0002553485481359323\n",
      "-0.11910064446642342\n"
     ]
    }
   ],
   "source": [
    "# Generate 10 random numbers from normal distribution with mu=0, sigma=0.2\n",
    "#\n",
    "for i in range(10):\n",
    "    print(random.normalvariate(0,0.2))"
   ]
  },
  {
   "cell_type": "code",
   "execution_count": 9,
   "metadata": {},
   "outputs": [
    {
     "name": "stdout",
     "output_type": "stream",
     "text": [
      "Dist Mu=0 Sig=3\n",
      "-1.3592\n",
      "-2.54003\n",
      "-1.59732\n",
      "-4.80108\n",
      "-3.43831\n",
      "-8.48087\n",
      "-1.55258\n",
      "4.00225\n",
      "3.63865\n",
      "-0.599148\n",
      "... (9990 rows omitted)\n"
     ]
    },
    {
     "data": {
      "image/png": "[encoded data removed]",
      "text/plain": [
       "<matplotlib.figure.Figure at 0x1a209019e80>"
      ]
     },
     "metadata": {},
     "output_type": "display_data"
    }
   ],
   "source": [
    "# Generate 1,000 random numbers from normal distribution with mu=0, sigma=3\n",
    "#\n",
    "numbers_to_generate = 10000\n",
    "\n",
    "num_array = make_array()\n",
    "\n",
    "for i in range(numbers_to_generate):\n",
    "    num = random.normalvariate(0,3)\n",
    "    num_array = np.append(num_array, num)\n",
    "\n",
    "t = Table().with_column('Dist Mu=0 Sig=3', num_array)\n",
    "print(t)\n",
    "t.hist(bins=100)"
   ]
  },
  {
   "cell_type": "code",
   "execution_count": 10,
   "metadata": {},
   "outputs": [
    {
     "name": "stdout",
     "output_type": "stream",
     "text": [
      "Dist Mu=0 Sig=3 | Dist Mu=0 Sig=1\n",
      "-1.3592         | 1.05109\n",
      "-2.54003        | -0.830548\n",
      "-1.59732        | -1.08002\n",
      "-4.80108        | -0.590649\n",
      "-3.43831        | -0.0112523\n",
      "-8.48087        | 0.529938\n",
      "-1.55258        | -0.712406\n",
      "4.00225         | -0.0266542\n",
      "3.63865         | -1.25571\n",
      "-0.599148       | 1.46465\n",
      "... (9990 rows omitted)\n"
     ]
    },
    {
     "data": {
      "image/png": "[encoded data removed]",
      "text/plain": [
       "<matplotlib.figure.Figure at 0x1a209019940>"
      ]
     },
     "metadata": {},
     "output_type": "display_data"
    }
   ],
   "source": [
    "# Generate 1,000 random numbers from normal distribution with mu=0, sigma=1\n",
    "#\n",
    "\n",
    "num_array = make_array()\n",
    "\n",
    "for i in range(numbers_to_generate):\n",
    "    num = random.normalvariate(0,1)\n",
    "    num_array = np.append(num_array, num)\n",
    "\n",
    "t = t.with_column('Dist Mu=0 Sig=1', num_array)\n",
    "print(t)\n",
    "t.hist(bins=100)"
   ]
  },
  {
   "cell_type": "code",
   "execution_count": 11,
   "metadata": {},
   "outputs": [
    {
     "name": "stdout",
     "output_type": "stream",
     "text": [
      "Dist Mu=0 Sig=3 | Dist Mu=0 Sig=1 | Dist Mu=0 Sig=0.5\n",
      "-1.3592         | 1.05109         | -0.138667\n",
      "-2.54003        | -0.830548       | 0.16449\n",
      "-1.59732        | -1.08002        | 0.504894\n",
      "-4.80108        | -0.590649       | -0.449451\n",
      "-3.43831        | -0.0112523      | -0.0345275\n",
      "-8.48087        | 0.529938        | 0.0538549\n",
      "-1.55258        | -0.712406       | -0.900335\n",
      "4.00225         | -0.0266542      | -1.1035\n",
      "3.63865         | -1.25571        | -0.286804\n",
      "-0.599148       | 1.46465         | 0.240908\n",
      "... (9990 rows omitted)\n"
     ]
    },
    {
     "data": {
      "image/png": "[encoded data removed]",
      "text/plain": [
       "<matplotlib.figure.Figure at 0x1a209366748>"
      ]
     },
     "metadata": {},
     "output_type": "display_data"
    }
   ],
   "source": [
    "# Generate 1,000 random numbers from normal distribution with mu=0, sigma=0.5\n",
    "#\n",
    "num_array = make_array()\n",
    "\n",
    "for i in range(numbers_to_generate):\n",
    "    num = random.normalvariate(0,0.5)\n",
    "    num_array = np.append(num_array, num)\n",
    "\n",
    "t = t.with_column('Dist Mu=0 Sig=0.5', num_array)\n",
    "print(t)\n",
    "t.hist(bins=100)"
   ]
  },
  {
   "cell_type": "code",
   "execution_count": 12,
   "metadata": {},
   "outputs": [
    {
     "name": "stdout",
     "output_type": "stream",
     "text": [
      "0\n",
      "4\n",
      "4\n",
      "6\n",
      "1\n",
      "6\n",
      "5\n",
      "1\n",
      "6\n",
      "1\n"
     ]
    }
   ],
   "source": [
    "# Generate 10 random INTEGERS from 0-5\n",
    "#\n",
    "for i in range(10):\n",
    "    print(random.randint(0,6))"
   ]
  },
  {
   "cell_type": "code",
   "execution_count": 13,
   "metadata": {},
   "outputs": [
    {
     "name": "stdout",
     "output_type": "stream",
     "text": [
      "4\n",
      "1\n",
      "3\n",
      "6\n",
      "5\n",
      "6\n",
      "3\n",
      "2\n",
      "5\n",
      "1\n"
     ]
    }
   ],
   "source": [
    "# Simulation of a dice\n",
    "for i in range(10):\n",
    "    print(random.randint(1,6))"
   ]
  },
  {
   "cell_type": "code",
   "execution_count": null,
   "metadata": {
    "collapsed": true
   },
   "outputs": [],
   "source": []
  }
 ],
 "metadata": {
  "kernelspec": {
   "display_name": "Python 3",
   "language": "python",
   "name": "python3"
  },
  "language_info": {
   "codemirror_mode": {
    "name": "ipython",
    "version": 3
   },
   "file_extension": ".py",
   "mimetype": "text/x-python",
   "name": "python",
   "nbconvert_exporter": "python",
   "pygments_lexer": "ipython3",
   "version": "3.6.3"
  }
 },
 "nbformat": 4,
 "nbformat_minor": 2
}
